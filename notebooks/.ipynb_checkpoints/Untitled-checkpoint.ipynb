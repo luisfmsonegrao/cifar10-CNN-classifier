{
 "cells": [
  {
   "cell_type": "code",
   "execution_count": null,
   "id": "44c8f338-1038-4be7-9c35-7d8f62bb51c3",
   "metadata": {},
   "outputs": [],
   "source": [
    "import numpy as np\n",
    "import torch\n",
    "from torch import optim\n",
    "import torchvision\n",
    "from torchvision import transforms\n",
    "from torchvision.transforms import Lambda\n",
    "import os, sys\n",
    "import matplotlib.pyplot as plt\n",
    "import pickle\n",
    "from torchvision.models.resnet import resnet50, ResNet50_Weights"
   ]
  },
  {
   "cell_type": "code",
   "execution_count": null,
   "id": "ab3b1eb9-6dd5-474a-94bb-f4112ab4efb5",
   "metadata": {},
   "outputs": [],
   "source": [
    "file_path = os.path.dirname(os.path.abspath('.'))\n",
    "sys.path.append(file_path)"
   ]
  },
  {
   "cell_type": "code",
   "execution_count": null,
   "id": "5d805b0d-9619-42ec-b52b-0d1838256c97",
   "metadata": {},
   "outputs": [],
   "source": [
    "file_path"
   ]
  },
  {
   "cell_type": "code",
   "execution_count": null,
   "id": "35d69ae0-a0d8-412b-b125-5b41f4a5fcbc",
   "metadata": {},
   "outputs": [],
   "source": [
    "from src.CIFAR10dataset import CIFAR10dataset\n",
    "from src.MyConvNN import MyConvNN"
   ]
  },
  {
   "cell_type": "markdown",
   "id": "ec5ac5c1-08f1-4f8c-ae93-45b3e09a21f1",
   "metadata": {},
   "source": [
    "## DEFINE IMAGE TRANSFORMS"
   ]
  },
  {
   "cell_type": "code",
   "execution_count": null,
   "id": "e927750a-2f74-482d-b641-9c4f36699416",
   "metadata": {},
   "outputs": [],
   "source": [
    "mean = [0.4914,0.4822,0.4465]\n",
    "stdev = [0.2470,0.2435,0.2616]"
   ]
  },
  {
   "cell_type": "code",
   "execution_count": null,
   "id": "8c4f38e8-e75b-40ce-b364-7e776d37b3f5",
   "metadata": {},
   "outputs": [],
   "source": [
    "tf = transforms.Compose([transforms.ToTensor(),transforms.Normalize(mean,stdev)])\n",
    "tgt_tf = Lambda(lambda y: torch.zeros(10, dtype=torch.float).scatter_(dim=0, index=torch.tensor(y), value=1))"
   ]
  },
  {
   "cell_type": "markdown",
   "id": "789f2164-3eab-409d-bb83-f36a9560505a",
   "metadata": {},
   "source": [
    "## LOAD CIFAR10 DATASET"
   ]
  },
  {
   "cell_type": "code",
   "execution_count": null,
   "id": "a961a9f3-e3e8-477b-8018-89b161e9c651",
   "metadata": {},
   "outputs": [],
   "source": [
    "train_val_ds = CIFAR10dataset(root='../data',train=True,transform=tf,target_transform = tgt_tf)\n",
    "test_ds = CIFAR10dataset(root='../data',train=False,transform=tf,target_transform=tgt_tf)"
   ]
  },
  {
   "cell_type": "code",
   "execution_count": null,
   "id": "5cf76535-4b21-48f4-9b73-48d115970ef4",
   "metadata": {},
   "outputs": [],
   "source": [
    "train_val_ds"
   ]
  },
  {
   "cell_type": "code",
   "execution_count": null,
   "id": "15b24909-ed11-44af-9b01-a84dae116cc1",
   "metadata": {},
   "outputs": [],
   "source": [
    "gen1 = torch.Generator().manual_seed(1)\n",
    "train_frac = 0.9\n",
    "val_frac = 1 - train_frac\n",
    "train_ds, val_ds = torch.utils.data.random_split(train_val_ds,[train_frac,val_frac],generator=gen1)"
   ]
  },
  {
   "cell_type": "code",
   "execution_count": null,
   "id": "3c5ea52e-584e-4317-8b16-c24ce9f3e88b",
   "metadata": {},
   "outputs": [],
   "source": [
    "train_dl = torch.utils.data.DataLoader(train_ds, batch_size=64, shuffle=True)\n",
    "val_dl = torch.utils.data.DataLoader(val_ds,batch_size=64,shuffle=False)\n",
    "test_dl = torch.utils.data.DataLoader(test_ds, batch_size=64, shuffle=False)"
   ]
  },
  {
   "cell_type": "code",
   "execution_count": null,
   "id": "68dc93fd-df51-4df0-9c5d-bd6e5e80c878",
   "metadata": {},
   "outputs": [],
   "source": [
    "def show_image(im):\n",
    "    stdev = torch.tensor([s1,s2,s3])\n",
    "    stdev = stdev.reshape((3,1,1))\n",
    "    avg = torch.tensor([m1,m2,m3])\n",
    "    avg = avg.reshape((3,1,1))\n",
    "    im = im*stdev+avg\n",
    "    im = torch.permute(im,(1,2,0))\n",
    "    plt.imshow(im)\n",
    "    plt.show()"
   ]
  },
  {
   "cell_type": "code",
   "execution_count": null,
   "id": "32e11562-3244-4878-9075-bcb95694eb4d",
   "metadata": {},
   "outputs": [],
   "source": [
    "im1,label = next(iter(train_dl))\n",
    "show_image(im1[0])"
   ]
  },
  {
   "cell_type": "markdown",
   "id": "5016a207-5b04-4bf0-acbf-57f72489ef82",
   "metadata": {},
   "source": [
    "## DEFINE MODEL, OPTIMIZER, LOSS FUNCTION, DEVICE"
   ]
  },
  {
   "cell_type": "code",
   "execution_count": null,
   "id": "09b9d9d8-1fdd-41fe-9596-c6e8329afbba",
   "metadata": {},
   "outputs": [],
   "source": [
    "device = 'cuda' if torch.cuda.is_available() else 'cpu'\n",
    "mo1 = MyConvNN().to(device)\n",
    "opt1 = optim.SGD(mo1.parameters(),lr=0.01)"
   ]
  },
  {
   "cell_type": "code",
   "execution_count": null,
   "id": "00c95980-2c02-4f02-a8e0-3e64acea41ad",
   "metadata": {},
   "outputs": [],
   "source": [
    "loss_fn = torch.nn.CrossEntropyLoss()"
   ]
  },
  {
   "cell_type": "markdown",
   "id": "137a84d0-8a06-4243-87b8-42f4114e6606",
   "metadata": {},
   "source": [
    "## DEFINE TRAINING LOOP"
   ]
  },
  {
   "cell_type": "code",
   "execution_count": null,
   "id": "5cea9c0a-ff69-405b-b8f9-5971869ac519",
   "metadata": {},
   "outputs": [],
   "source": [
    "def train_model(model,train_data,val_data,optimizer,loss_fn,epochs=1):\n",
    "    n_train_samples = len(train_data.dataset.indices)\n",
    "    n_val_samples = len(val_data.dataset.indices)\n",
    "    best_acc = 0\n",
    "    for e in range(1,epochs+1):\n",
    "        model.train()\n",
    "        cum_train_loss = 0\n",
    "        cum_val_loss = 0\n",
    "        train_acc = 0\n",
    "        val_acc = 0\n",
    "        for i,(example,label) in enumerate(train_data):\n",
    "            example = example.to(device)\n",
    "            label = label.to(device)\n",
    "            vals,lbl_classes = label.max(dim=1)\n",
    "            pred = model(example)\n",
    "            vals, prd_classes = pred.max(dim=1)\n",
    "            loss = loss_fn(pred,label)\n",
    "            loss.backward()\n",
    "            optimizer.step()\n",
    "            optimizer.zero_grad()\n",
    "            cum_train_loss += loss/n_train_samples\n",
    "            train_acc += sum(lbl_classes == prd_classes)\n",
    "            if i % 100 == 0:\n",
    "                print(f'Cumulative train loss = {cum_train_loss}, Batch = {i}')\n",
    "        model.eval()\n",
    "        with torch.no_grad():\n",
    "            for i,(example,label) in enumerate(val_data):\n",
    "                example = example.to(device)\n",
    "                label = label.to(device)\n",
    "                vals,lbl_classes = label.max(dim=1)\n",
    "                pred = model(example)\n",
    "                vals,prd_classes = pred.max(dim=1)\n",
    "                loss = loss_fn(pred,label)\n",
    "                cum_val_loss += loss/n_val_samples\n",
    "                val_acc += sum(lbl_classes == prd_classes)\n",
    "                if i % 100 == 0:\n",
    "                    print(f'Cumulative validation loss = {cum_val_loss}, Batch = {i}')\n",
    "            train_acc = train_acc/n_train_samples\n",
    "            val_acc = val_acc/n_val_samples\n",
    "            info_str = f'Epoch {e} train/val loss: {cum_train_loss:.4f}/{cum_val_loss:.4f} \\n train/val accuracy: {train_acc:.4f}/{val_acc:.4f}'\n",
    "            print(info_str)\n",
    "            print('\\n')\n",
    "            if val_acc > best_acc + 0.01:\n",
    "                best_acc = val_acc\n",
    "                torch.save({'epoch': e,\n",
    "                            'model_state_dict': model.state_dict(),\n",
    "                            'optimizer_state_dict':optimizer.state_dict(),\n",
    "                            'loss':cum_val_loss,\n",
    "                            'acc':val_acc},\n",
    "                           f'..\\models\\cifar_model_v1_it{e}.pt')\n",
    "            \n",
    "            \n",
    "    "
   ]
  },
  {
   "cell_type": "markdown",
   "id": "773c24dc-4da2-4839-a355-e7a7b0db52d6",
   "metadata": {},
   "source": [
    "## TRAIN MODEL"
   ]
  },
  {
   "cell_type": "code",
   "execution_count": null,
   "id": "794ca035-09e7-4224-b967-1dc00a204d50",
   "metadata": {},
   "outputs": [],
   "source": [
    "train_model(mo1,train_dl,val_dl,opt1,loss_fn,epochs=10)"
   ]
  },
  {
   "cell_type": "markdown",
   "id": "8d563c82-515a-4fe6-95c6-558917367ee3",
   "metadata": {},
   "source": [
    "## LOAD PRETRAINED RESNET50 NN AND TUNE TO CIFAR10 CLASSIFICATION TASK"
   ]
  },
  {
   "cell_type": "code",
   "execution_count": null,
   "id": "e9a0a216-0bdc-442f-a780-d7a4d26b5445",
   "metadata": {},
   "outputs": [],
   "source": [
    "ref_mo = resnet50(weights=ResNet50_Weights.IMAGENET1K_V1)\n"
   ]
  },
  {
   "cell_type": "code",
   "execution_count": null,
   "id": "c2b65db7-a6dd-4d17-b7a4-2fb54ef57a81",
   "metadata": {},
   "outputs": [],
   "source": [
    "for p in ref_mo.parameters():\n",
    "    p.requires_grad = False"
   ]
  },
  {
   "cell_type": "code",
   "execution_count": null,
   "id": "52d9fc22-1da2-4cd6-9881-9157f6d6d398",
   "metadata": {},
   "outputs": [],
   "source": [
    "ref_mo.fc = torch.nn.Sequential(\n",
    "    torch.nn.Dropout(p=0.2),\n",
    "    torch.nn.Linear(in_features=2048,out_features=512,bias=True),\n",
    "    torch.nn.BatchNorm1d(512),\n",
    "    torch.nn.ReLU(),\n",
    "    torch.nn.Linear(in_features=512,out_features=32,bias=True),\n",
    "    torch.nn.BatchNorm1d(32),\n",
    "    torch.nn.ReLU(),\n",
    "    torch.nn.Linear(in_features=32,out_features=10,bias=True)\n",
    ")"
   ]
  },
  {
   "cell_type": "code",
   "execution_count": null,
   "id": "f419181a-73d2-4df4-b8a3-b2fc2d438760",
   "metadata": {},
   "outputs": [],
   "source": [
    "ref_mo = ref_mo.to(device)"
   ]
  },
  {
   "cell_type": "code",
   "execution_count": null,
   "id": "044dcecd-e809-41f0-87d3-6b0f9e323e94",
   "metadata": {},
   "outputs": [],
   "source": [
    "ref_opt = torch.optim.SGD(ref_mo.parameters(),lr=0.01)"
   ]
  },
  {
   "cell_type": "code",
   "execution_count": null,
   "id": "e64a40c5-e156-43bc-9d78-b5cc28b6f575",
   "metadata": {},
   "outputs": [],
   "source": [
    "ref_loss = torch.nn.CrossEntropyLoss()"
   ]
  },
  {
   "cell_type": "markdown",
   "id": "0a887712-9319-45d3-bf4e-561143aa198f",
   "metadata": {},
   "source": [
    "## TRAIN RESNET50 OUTPUT LAYERS"
   ]
  },
  {
   "cell_type": "code",
   "execution_count": null,
   "id": "1800b400-6d95-45fd-be2b-420f1cd06de5",
   "metadata": {},
   "outputs": [],
   "source": [
    "train_model(ref_mo,train_dl,val_dl,ref_opt,ref_loss,epochs=10)"
   ]
  },
  {
   "cell_type": "markdown",
   "id": "0c30d542-c9a7-4170-a953-ec21876512c9",
   "metadata": {},
   "source": [
    "## DEFINE EVALUATION LOOP"
   ]
  },
  {
   "cell_type": "code",
   "execution_count": null,
   "id": "e00e23b9-5cd1-4d84-809e-034fb1f43de1",
   "metadata": {},
   "outputs": [],
   "source": [
    "def eval_model(model,test_data,loss_fn):\n",
    "    model.eval()\n",
    "    cum_test_loss = 0\n",
    "    test_acc = 0\n",
    "    n_samples = len(test_data.dataset)\n",
    "    with torch.no_grad():\n",
    "        for i,(example,label) in enumerate(test_data):\n",
    "            example = example.to(device)\n",
    "            label = label.to(device)\n",
    "            pred = model(example)\n",
    "            loss = loss_fn(pred,label)\n",
    "            cum_test_loss += loss\n",
    "            vals,lbl_classes = label.max(dim=1)\n",
    "            vals,pred_classes = pred.max(dim=1)\n",
    "            test_acc += sum(pred_classes==lbl_classes)\n",
    "        cum_test_loss = cum_test_loss/n_samples\n",
    "        test_acc = test_acc/n_samples\n",
    "        info_str = f'Test loss: {cum_test_loss:.4f} \\n test accuracy: {test_acc:.4f}'\n",
    "        print(info_str)\n",
    "        \n",
    "            \n",
    "        "
   ]
  },
  {
   "cell_type": "markdown",
   "id": "edae4bb7-7ee4-4d45-b9a2-469bf5af52e4",
   "metadata": {},
   "source": [
    "## EVALUATE MODEL PERFORMANCE ON TEST SET"
   ]
  },
  {
   "cell_type": "code",
   "execution_count": null,
   "id": "df9b1370-7bf2-41a8-a92b-7c8043c86ce1",
   "metadata": {},
   "outputs": [],
   "source": [
    "eval_model(mo1,test_dl,ref_loss)"
   ]
  },
  {
   "cell_type": "markdown",
   "id": "f84b8771-e046-4b4e-94aa-b6797789b47a",
   "metadata": {},
   "source": [
    "## EVALUATE MODIFIED RESNET50 PERFORMANCE ON TEST SET"
   ]
  },
  {
   "cell_type": "code",
   "execution_count": null,
   "id": "b91e2260-e2d9-42c7-b662-eb0a0508c2f5",
   "metadata": {},
   "outputs": [],
   "source": [
    "eval_model(ref_mo,test_dl,ref_loss)"
   ]
  },
  {
   "cell_type": "markdown",
   "id": "54420136-cd88-45a4-b2bc-a518aa40bc35",
   "metadata": {},
   "source": [
    "## SAVE MODEL STATE DICT"
   ]
  },
  {
   "cell_type": "code",
   "execution_count": null,
   "id": "4b982230-ec71-4669-9807-453ff4f137ba",
   "metadata": {},
   "outputs": [],
   "source": [
    "torch.save(mo1.state_dict(),'..\\models\\cifar_model_v1_sd.pt')"
   ]
  },
  {
   "cell_type": "markdown",
   "id": "b61b4b89-462d-491d-b490-29a6b9dc1519",
   "metadata": {},
   "source": [
    "## LOAD STATE DICT"
   ]
  },
  {
   "cell_type": "code",
   "execution_count": null,
   "id": "1713e750-3bad-44e2-a957-cb53208e3396",
   "metadata": {},
   "outputs": [],
   "source": [
    "mo2 = MyConvNN()\n",
    "mo2.load_state_dict(torch.load('..\\models\\cifar_model_v1_sd.pt',weights_only=True))"
   ]
  },
  {
   "cell_type": "markdown",
   "id": "e3b7747a-dff8-4b11-a5f5-532cb4d855d9",
   "metadata": {},
   "source": [
    "## LOAD BEST MODEL"
   ]
  },
  {
   "cell_type": "code",
   "execution_count": null,
   "id": "62d645f1-076c-4ae9-9236-7252e40805ab",
   "metadata": {},
   "outputs": [],
   "source": [
    "mo4 = MyConvNN()\n",
    "opt4 = torch.optim.SGD(mo4.parameters(),lr=0.01)"
   ]
  },
  {
   "cell_type": "code",
   "execution_count": null,
   "id": "fa3fa354-a3ca-42ec-854c-ab9713ec00b9",
   "metadata": {},
   "outputs": [],
   "source": [
    "sd = torch.load('..\\models\\cifar_model_v1_it20.pt',weights_only=True)\n",
    "mo4.load_state_dict(sd['model_state_dict'])\n",
    "opt4.load_state_dict(sd['optimizer_state_dict'])"
   ]
  },
  {
   "cell_type": "markdown",
   "id": "f8a13231-7e94-49ad-b5f8-68ed4f17a4f5",
   "metadata": {},
   "source": [
    "## SAVE MODEL WITH PICKLE"
   ]
  },
  {
   "cell_type": "code",
   "execution_count": null,
   "id": "d6e32268-af18-4b51-9f37-f9dc2512c39c",
   "metadata": {},
   "outputs": [],
   "source": [
    "output_file = 'cifar_model_v1.bin'"
   ]
  },
  {
   "cell_type": "code",
   "execution_count": null,
   "id": "f8360af1-2ea3-40c7-954c-7f187d53aef5",
   "metadata": {},
   "outputs": [],
   "source": [
    "with open(output_file,'wb') as f_out:\n",
    "    pickle.dump((tf,mo4),f_out)"
   ]
  }
 ],
 "metadata": {
  "kernelspec": {
   "display_name": "Python 3 (ipykernel)",
   "language": "python",
   "name": "python3"
  },
  "language_info": {
   "codemirror_mode": {
    "name": "ipython",
    "version": 3
   },
   "file_extension": ".py",
   "mimetype": "text/x-python",
   "name": "python",
   "nbconvert_exporter": "python",
   "pygments_lexer": "ipython3",
   "version": "3.12.0"
  }
 },
 "nbformat": 4,
 "nbformat_minor": 5
}
