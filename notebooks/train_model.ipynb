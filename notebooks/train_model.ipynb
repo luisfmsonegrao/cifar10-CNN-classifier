{
 "cells": [
  {
   "cell_type": "code",
   "execution_count": 12,
   "id": "44c8f338-1038-4be7-9c35-7d8f62bb51c3",
   "metadata": {},
   "outputs": [],
   "source": [
    "import numpy as np\n",
    "import torch\n",
    "from torch import optim\n",
    "import torchvision\n",
    "from torchvision import transforms\n",
    "from torchvision.transforms import Lambda\n",
    "import os, sys\n",
    "import matplotlib.pyplot as plt\n",
    "import pickle\n",
    "from torchvision.models.resnet import resnet50, ResNet50_Weights"
   ]
  },
  {
   "cell_type": "code",
   "execution_count": 13,
   "id": "ab3b1eb9-6dd5-474a-94bb-f4112ab4efb5",
   "metadata": {},
   "outputs": [],
   "source": [
    "file_path = os.path.dirname(os.path.abspath('.'))\n",
    "sys.path.append(file_path)"
   ]
  },
  {
   "cell_type": "code",
   "execution_count": 14,
   "id": "5d805b0d-9619-42ec-b52b-0d1838256c97",
   "metadata": {},
   "outputs": [
    {
     "data": {
      "text/plain": [
       "'C:\\\\Users\\\\negra\\\\mymlprojects\\\\cifar10'"
      ]
     },
     "execution_count": 14,
     "metadata": {},
     "output_type": "execute_result"
    }
   ],
   "source": [
    "file_path"
   ]
  },
  {
   "cell_type": "code",
   "execution_count": 15,
   "id": "35d69ae0-a0d8-412b-b125-5b41f4a5fcbc",
   "metadata": {},
   "outputs": [],
   "source": [
    "from datasets.CIFAR10dataset import CIFAR10dataset\n",
    "from models.SmallCNN import SmallCNN"
   ]
  },
  {
   "cell_type": "markdown",
   "id": "ec5ac5c1-08f1-4f8c-ae93-45b3e09a21f1",
   "metadata": {},
   "source": [
    "## DEFINE IMAGE TRANSFORMS"
   ]
  },
  {
   "cell_type": "code",
   "execution_count": 16,
   "id": "e927750a-2f74-482d-b641-9c4f36699416",
   "metadata": {},
   "outputs": [],
   "source": [
    "cifar_mean = [0.4914,0.4822,0.4465]\n",
    "cifar_stdev = [0.2470,0.2435,0.2616]"
   ]
  },
  {
   "cell_type": "code",
   "execution_count": 17,
   "id": "8c4f38e8-e75b-40ce-b364-7e776d37b3f5",
   "metadata": {},
   "outputs": [],
   "source": [
    "tf = transforms.Compose([transforms.ToTensor(),transforms.Normalize(cifar_mean,cifar_stdev)])\n",
    "tgt_tf = Lambda(lambda y: torch.zeros(10, dtype=torch.float).scatter_(dim=0, index=torch.tensor(y), value=1))"
   ]
  },
  {
   "cell_type": "markdown",
   "id": "789f2164-3eab-409d-bb83-f36a9560505a",
   "metadata": {},
   "source": [
    "## LOAD CIFAR10 DATASET"
   ]
  },
  {
   "cell_type": "code",
   "execution_count": 18,
   "id": "a961a9f3-e3e8-477b-8018-89b161e9c651",
   "metadata": {},
   "outputs": [],
   "source": [
    "train_val_ds = CIFAR10dataset(root='../data',train=True,transform=tf,target_transform = tgt_tf)\n",
    "test_ds = CIFAR10dataset(root='../data',train=False,transform=tf,target_transform=tgt_tf)"
   ]
  },
  {
   "cell_type": "code",
   "execution_count": 19,
   "id": "15b24909-ed11-44af-9b01-a84dae116cc1",
   "metadata": {},
   "outputs": [],
   "source": [
    "gen1 = torch.Generator().manual_seed(1)\n",
    "train_frac = 0.9\n",
    "val_frac = 1 - train_frac\n",
    "train_ds, val_ds = torch.utils.data.random_split(train_val_ds,[train_frac,val_frac],generator=gen1)"
   ]
  },
  {
   "cell_type": "code",
   "execution_count": 20,
   "id": "3c5ea52e-584e-4317-8b16-c24ce9f3e88b",
   "metadata": {},
   "outputs": [],
   "source": [
    "train_dl = torch.utils.data.DataLoader(train_ds, batch_size=64, shuffle=True)\n",
    "val_dl = torch.utils.data.DataLoader(val_ds,batch_size=64,shuffle=False)\n",
    "test_dl = torch.utils.data.DataLoader(test_ds, batch_size=64, shuffle=False)"
   ]
  },
  {
   "cell_type": "code",
   "execution_count": 21,
   "id": "68dc93fd-df51-4df0-9c5d-bd6e5e80c878",
   "metadata": {},
   "outputs": [],
   "source": [
    "def show_image(im):\n",
    "    stdev = torch.tensor(cifar_stdev)\n",
    "    stdev = stdev.reshape((3,1,1))\n",
    "    mean = torch.tensor(cifar_mean)\n",
    "    mean = mean.reshape((3,1,1))\n",
    "    im = im*stdev+mean\n",
    "    im = torch.permute(im,(1,2,0))\n",
    "    plt.imshow(im)\n",
    "    plt.show()"
   ]
  },
  {
   "cell_type": "code",
   "execution_count": 22,
   "id": "32e11562-3244-4878-9075-bcb95694eb4d",
   "metadata": {},
   "outputs": [
    {
     "data": {
      "image/png": "[encoded data removed]",
      "text/plain": [
       "<Figure size 640x480 with 1 Axes>"
      ]
     },
     "metadata": {},
     "output_type": "display_data"
    }
   ],
   "source": [
    "im1,label = next(iter(train_dl))\n",
    "show_image(im1[0])"
   ]
  },
  {
   "cell_type": "markdown",
   "id": "5016a207-5b04-4bf0-acbf-57f72489ef82",
   "metadata": {},
   "source": [
    "## DEFINE MODEL, OPTIMIZER, LOSS FUNCTION, DEVICE"
   ]
  },
  {
   "cell_type": "code",
   "execution_count": 23,
   "id": "09b9d9d8-1fdd-41fe-9596-c6e8329afbba",
   "metadata": {},
   "outputs": [],
   "source": [
    "device = 'cuda' if torch.cuda.is_available() else 'cpu'\n",
    "mo1 = SmallCNN().to(device)\n",
    "opt1 = optim.SGD(mo1.parameters(),lr=0.005)"
   ]
  },
  {
   "cell_type": "code",
   "execution_count": 24,
   "id": "00c95980-2c02-4f02-a8e0-3e64acea41ad",
   "metadata": {},
   "outputs": [],
   "source": [
    "loss_fn = torch.nn.CrossEntropyLoss()"
   ]
  },
  {
   "cell_type": "markdown",
   "id": "137a84d0-8a06-4243-87b8-42f4114e6606",
   "metadata": {},
   "source": [
    "## DEFINE TRAINING LOOP"
   ]
  },
  {
   "cell_type": "code",
   "execution_count": 25,
   "id": "5cea9c0a-ff69-405b-b8f9-5971869ac519",
   "metadata": {},
   "outputs": [
    {
     "name": "stderr",
     "output_type": "stream",
     "text": [
      "<>:50: SyntaxWarning: invalid escape sequence '\\m'\n",
      "<>:50: SyntaxWarning: invalid escape sequence '\\m'\n",
      "C:\\Users\\negra\\AppData\\Local\\Temp\\ipykernel_20400\\3657586241.py:50: SyntaxWarning: invalid escape sequence '\\m'\n",
      "  f'..\\models\\cifar_model_v1_it{e}.pt')\n"
     ]
    }
   ],
   "source": [
    "def train_model(model,train_data,val_data,optimizer,loss_fn,epochs=1):\n",
    "    n_train_samples = len(train_data.dataset.indices)\n",
    "    n_val_samples = len(val_data.dataset.indices)\n",
    "    best_acc = 0\n",
    "    for e in range(1,epochs+1):\n",
    "        model.train()\n",
    "        cum_train_loss = 0\n",
    "        cum_val_loss = 0\n",
    "        train_acc = 0\n",
    "        val_acc = 0\n",
    "        for i,(example,label) in enumerate(train_data):\n",
    "            example = example.to(device)\n",
    "            label = label.to(device)\n",
    "            vals,lbl_classes = label.max(dim=1)\n",
    "            pred = model(example)\n",
    "            vals, prd_classes = pred.max(dim=1)\n",
    "            loss = loss_fn(pred,label)\n",
    "            loss.backward()\n",
    "            optimizer.step()\n",
    "            optimizer.zero_grad()\n",
    "            cum_train_loss += loss/n_train_samples\n",
    "            train_acc += sum(lbl_classes == prd_classes)\n",
    "            if i % 100 == 0:\n",
    "                print(f'Cumulative train loss = {cum_train_loss}, Batch = {i}')\n",
    "        model.eval()\n",
    "        with torch.no_grad():\n",
    "            for i,(example,label) in enumerate(val_data):\n",
    "                example = example.to(device)\n",
    "                label = label.to(device)\n",
    "                vals,lbl_classes = label.max(dim=1)\n",
    "                pred = model(example)\n",
    "                vals,prd_classes = pred.max(dim=1)\n",
    "                loss = loss_fn(pred,label)\n",
    "                cum_val_loss += loss/n_val_samples\n",
    "                val_acc += sum(lbl_classes == prd_classes)\n",
    "                if i % 100 == 0:\n",
    "                    print(f'Cumulative validation loss = {cum_val_loss}, Batch = {i}')\n",
    "            train_acc = train_acc/n_train_samples\n",
    "            val_acc = val_acc/n_val_samples\n",
    "            info_str = f'Epoch {e} train/val loss: {cum_train_loss:.4f}/{cum_val_loss:.4f} \\n train/val accuracy: {train_acc:.4f}/{val_acc:.4f}'\n",
    "            print(info_str)\n",
    "            print('\\n')\n",
    "            if val_acc > best_acc + 0.01:\n",
    "                best_acc = val_acc\n",
    "                torch.save({'epoch': e,\n",
    "                            'model_state_dict': model.state_dict(),\n",
    "                            'optimizer_state_dict':optimizer.state_dict(),\n",
    "                            'loss':cum_val_loss,\n",
    "                            'acc':val_acc},\n",
    "                           f'..\\trained_models\\cifar_model_v1_it{e}.pt')\n",
    "            \n",
    "            \n",
    "    "
   ]
  },
  {
   "cell_type": "markdown",
   "id": "773c24dc-4da2-4839-a355-e7a7b0db52d6",
   "metadata": {},
   "source": [
    "## TRAIN MODEL"
   ]
  },
  {
   "cell_type": "code",
   "execution_count": 26,
   "id": "794ca035-09e7-4224-b967-1dc00a204d50",
   "metadata": {},
   "outputs": [
    {
     "name": "stdout",
     "output_type": "stream",
     "text": [
      "Cumulative train loss = 5.4586969781666994e-05, Batch = 0\n",
      "Cumulative train loss = 0.00501488521695137, Batch = 100\n",
      "Cumulative train loss = 0.009639843367040157, Batch = 200\n",
      "Cumulative train loss = 0.014081128872931004, Batch = 300\n",
      "Cumulative train loss = 0.018412616103887558, Batch = 400\n",
      "Cumulative train loss = 0.022609325125813484, Batch = 500\n",
      "Cumulative train loss = 0.02666012942790985, Batch = 600\n",
      "Cumulative train loss = 0.030646778643131256, Batch = 700\n",
      "Cumulative validation loss = 0.000373172020772472, Batch = 0\n",
      "Epoch 1 train/val loss: 0.0308/0.0290 \n",
      " train/val accuracy: 0.3143/0.3337\n",
      "\n",
      "\n",
      "Cumulative train loss = 3.78976073989179e-05, Batch = 0\n",
      "Cumulative train loss = 0.003946230746805668, Batch = 100\n",
      "Cumulative train loss = 0.007749638520181179, Batch = 200\n",
      "Cumulative train loss = 0.011528253555297852, Batch = 300\n",
      "Cumulative train loss = 0.015178428031504154, Batch = 400\n",
      "Cumulative train loss = 0.018781302496790886, Batch = 500\n",
      "Cumulative train loss = 0.022303760051727295, Batch = 600\n",
      "Cumulative train loss = 0.025827866047620773, Batch = 700\n",
      "Cumulative validation loss = 0.0003269085136707872, Batch = 0\n",
      "Epoch 2 train/val loss: 0.0259/0.0258 \n",
      " train/val accuracy: 0.4225/0.4083\n",
      "\n",
      "\n",
      "Cumulative train loss = 3.278944859630428e-05, Batch = 0\n",
      "Cumulative train loss = 0.0034770092461258173, Batch = 100\n",
      "Cumulative train loss = 0.006808500736951828, Batch = 200\n",
      "Cumulative train loss = 0.01013326458632946, Batch = 300\n",
      "Cumulative train loss = 0.013443879783153534, Batch = 400\n",
      "Cumulative train loss = 0.016721384599804878, Batch = 500\n",
      "Cumulative train loss = 0.019933512434363365, Batch = 600\n",
      "Cumulative train loss = 0.023142963647842407, Batch = 700\n",
      "Cumulative validation loss = 0.00029385523521341383, Batch = 0\n",
      "Epoch 3 train/val loss: 0.0232/0.0232 \n",
      " train/val accuracy: 0.4781/0.4749\n",
      "\n",
      "\n",
      "Cumulative train loss = 2.832454083545599e-05, Batch = 0\n",
      "Cumulative train loss = 0.00317575060762465, Batch = 100\n",
      "Cumulative train loss = 0.006291410885751247, Batch = 200\n",
      "Cumulative train loss = 0.00935316551476717, Batch = 300\n",
      "Cumulative train loss = 0.012441524304449558, Batch = 400\n",
      "Cumulative train loss = 0.015510964207351208, Batch = 500\n",
      "Cumulative train loss = 0.01853862591087818, Batch = 600\n",
      "Cumulative train loss = 0.021557623520493507, Batch = 700\n",
      "Cumulative validation loss = 0.00028125281096436083, Batch = 0\n",
      "Epoch 4 train/val loss: 0.0217/0.0218 \n",
      " train/val accuracy: 0.5124/0.4969\n",
      "\n",
      "\n",
      "Cumulative train loss = 3.307451697764918e-05, Batch = 0\n",
      "Cumulative train loss = 0.0029974847566336393, Batch = 100\n",
      "Cumulative train loss = 0.005946608260273933, Batch = 200\n",
      "Cumulative train loss = 0.008882414549589157, Batch = 300\n",
      "Cumulative train loss = 0.011811873875558376, Batch = 400\n",
      "Cumulative train loss = 0.014675122685730457, Batch = 500\n",
      "Cumulative train loss = 0.017531873658299446, Batch = 600\n",
      "Cumulative train loss = 0.020366478711366653, Batch = 700\n",
      "Cumulative validation loss = 0.00025210599415004253, Batch = 0\n",
      "Epoch 5 train/val loss: 0.0205/0.0210 \n",
      " train/val accuracy: 0.5386/0.5193\n",
      "\n",
      "\n",
      "Cumulative train loss = 2.858578045561444e-05, Batch = 0\n",
      "Cumulative train loss = 0.002830849029123783, Batch = 100\n",
      "Cumulative train loss = 0.005611839238554239, Batch = 200\n",
      "Cumulative train loss = 0.008455490693449974, Batch = 300\n",
      "Cumulative train loss = 0.011214124038815498, Batch = 400\n",
      "Cumulative train loss = 0.01399391982704401, Batch = 500\n",
      "Cumulative train loss = 0.01672133430838585, Batch = 600\n",
      "Cumulative train loss = 0.019447490572929382, Batch = 700\n",
      "Cumulative validation loss = 0.0002516081149224192, Batch = 0\n",
      "Epoch 6 train/val loss: 0.0195/0.0208 \n",
      " train/val accuracy: 0.5561/0.5177\n",
      "\n",
      "\n",
      "Cumulative train loss = 2.6594894734444097e-05, Batch = 0\n",
      "Cumulative train loss = 0.0027027300093322992, Batch = 100\n",
      "Cumulative train loss = 0.005364951677620411, Batch = 200\n",
      "Cumulative train loss = 0.008073278702795506, Batch = 300\n",
      "Cumulative train loss = 0.010762116871774197, Batch = 400\n",
      "Cumulative train loss = 0.013381498865783215, Batch = 500\n",
      "Cumulative train loss = 0.016025245189666748, Batch = 600\n",
      "Cumulative train loss = 0.018593531101942062, Batch = 700\n",
      "Cumulative validation loss = 0.00024702452355995774, Batch = 0\n",
      "Epoch 7 train/val loss: 0.0187/0.0195 \n",
      " train/val accuracy: 0.5786/0.5499\n",
      "\n",
      "\n",
      "Cumulative train loss = 2.8161997761344537e-05, Batch = 0\n",
      "Cumulative train loss = 0.0026033453177660704, Batch = 100\n",
      "Cumulative train loss = 0.005166714079678059, Batch = 200\n",
      "Cumulative train loss = 0.007777369115501642, Batch = 300\n",
      "Cumulative train loss = 0.01032043993473053, Batch = 400\n",
      "Cumulative train loss = 0.012845449149608612, Batch = 500\n",
      "Cumulative train loss = 0.01537553034722805, Batch = 600\n",
      "Cumulative train loss = 0.01793808676302433, Batch = 700\n",
      "Cumulative validation loss = 0.00022621559037361294, Batch = 0\n",
      "Epoch 8 train/val loss: 0.0180/0.0192 \n",
      " train/val accuracy: 0.5944/0.5629\n",
      "\n",
      "\n",
      "Cumulative train loss = 2.563488123996649e-05, Batch = 0\n",
      "Cumulative train loss = 0.002537563443183899, Batch = 100\n",
      "Cumulative train loss = 0.005067622754722834, Batch = 200\n",
      "Cumulative train loss = 0.007563852705061436, Batch = 300\n",
      "Cumulative train loss = 0.010007128119468689, Batch = 400\n",
      "Cumulative train loss = 0.012500045821070671, Batch = 500\n",
      "Cumulative train loss = 0.014931916259229183, Batch = 600\n",
      "Cumulative train loss = 0.01733211800456047, Batch = 700\n",
      "Cumulative validation loss = 0.0002246207877760753, Batch = 0\n",
      "Epoch 9 train/val loss: 0.0174/0.0185 \n",
      " train/val accuracy: 0.6077/0.5733\n",
      "\n",
      "\n",
      "Cumulative train loss = 2.4723927708691917e-05, Batch = 0\n",
      "Cumulative train loss = 0.002403794089332223, Batch = 100\n",
      "Cumulative train loss = 0.004813108593225479, Batch = 200\n",
      "Cumulative train loss = 0.007238237652927637, Batch = 300\n",
      "Cumulative train loss = 0.009666278958320618, Batch = 400\n",
      "Cumulative train loss = 0.012095484882593155, Batch = 500\n",
      "Cumulative train loss = 0.014495846815407276, Batch = 600\n",
      "Cumulative train loss = 0.016884732991456985, Batch = 700\n",
      "Cumulative validation loss = 0.00021926067711319774, Batch = 0\n",
      "Epoch 10 train/val loss: 0.0170/0.0183 \n",
      " train/val accuracy: 0.6174/0.5871\n",
      "\n",
      "\n",
      "Cumulative train loss = 1.982199501071591e-05, Batch = 0\n",
      "Cumulative train loss = 0.002328291768208146, Batch = 100\n",
      "Cumulative train loss = 0.004679493140429258, Batch = 200\n",
      "Cumulative train loss = 0.007078423630446196, Batch = 300\n",
      "Cumulative train loss = 0.009433415718376637, Batch = 400\n",
      "Cumulative train loss = 0.011754550971090794, Batch = 500\n",
      "Cumulative train loss = 0.014041708782315254, Batch = 600\n",
      "Cumulative train loss = 0.016365980729460716, Batch = 700\n",
      "Cumulative validation loss = 0.00021571468096226454, Batch = 0\n",
      "Epoch 11 train/val loss: 0.0165/0.0184 \n",
      " train/val accuracy: 0.6279/0.5875\n",
      "\n",
      "\n",
      "Cumulative train loss = 2.759757080639247e-05, Batch = 0\n",
      "Cumulative train loss = 0.0023056636564433575, Batch = 100\n",
      "Cumulative train loss = 0.0045382315292954445, Batch = 200\n",
      "Cumulative train loss = 0.006776146590709686, Batch = 300\n",
      "Cumulative train loss = 0.009091637097299099, Batch = 400\n",
      "Cumulative train loss = 0.011408687569200993, Batch = 500\n",
      "Cumulative train loss = 0.013680919073522091, Batch = 600\n",
      "Cumulative train loss = 0.01599595509469509, Batch = 700\n",
      "Cumulative validation loss = 0.0002342399093322456, Batch = 0\n",
      "Epoch 12 train/val loss: 0.0161/0.0191 \n",
      " train/val accuracy: 0.6391/0.5779\n",
      "\n",
      "\n",
      "Cumulative train loss = 1.9593398974393494e-05, Batch = 0\n",
      "Cumulative train loss = 0.0023026885464787483, Batch = 100\n",
      "Cumulative train loss = 0.004566605668514967, Batch = 200\n",
      "Cumulative train loss = 0.006781438831239939, Batch = 300\n",
      "Cumulative train loss = 0.009010566398501396, Batch = 400\n",
      "Cumulative train loss = 0.011267147026956081, Batch = 500\n",
      "Cumulative train loss = 0.013487586751580238, Batch = 600\n",
      "Cumulative train loss = 0.015730591490864754, Batch = 700\n",
      "Cumulative validation loss = 0.00022706635354552418, Batch = 0\n",
      "Epoch 13 train/val loss: 0.0158/0.0178 \n",
      " train/val accuracy: 0.6438/0.6017\n",
      "\n",
      "\n",
      "Cumulative train loss = 2.252716694783885e-05, Batch = 0\n",
      "Cumulative train loss = 0.002179138595238328, Batch = 100\n",
      "Cumulative train loss = 0.004394947085529566, Batch = 200\n",
      "Cumulative train loss = 0.006556810345500708, Batch = 300\n",
      "Cumulative train loss = 0.008776724338531494, Batch = 400\n",
      "Cumulative train loss = 0.010988210327923298, Batch = 500\n",
      "Cumulative train loss = 0.013128991238772869, Batch = 600\n",
      "Cumulative train loss = 0.015351268462836742, Batch = 700\n",
      "Cumulative validation loss = 0.0002292333374498412, Batch = 0\n",
      "Epoch 14 train/val loss: 0.0154/0.0183 \n",
      " train/val accuracy: 0.6537/0.5815\n",
      "\n",
      "\n",
      "Cumulative train loss = 2.3614860765519552e-05, Batch = 0\n",
      "Cumulative train loss = 0.002172700362280011, Batch = 100\n",
      "Cumulative train loss = 0.00433303602039814, Batch = 200\n",
      "Cumulative train loss = 0.006464481353759766, Batch = 300\n",
      "Cumulative train loss = 0.008622986264526844, Batch = 400\n",
      "Cumulative train loss = 0.010797875002026558, Batch = 500\n",
      "Cumulative train loss = 0.01298459805548191, Batch = 600\n",
      "Cumulative train loss = 0.015111063607037067, Batch = 700\n",
      "Cumulative validation loss = 0.00021441113494802266, Batch = 0\n",
      "Epoch 15 train/val loss: 0.0152/0.0176 \n",
      " train/val accuracy: 0.6585/0.6123\n",
      "\n",
      "\n",
      "Cumulative train loss = 1.9777389752562158e-05, Batch = 0\n",
      "Cumulative train loss = 0.002135171787813306, Batch = 100\n",
      "Cumulative train loss = 0.004225002136081457, Batch = 200\n",
      "Cumulative train loss = 0.006368262693285942, Batch = 300\n",
      "Cumulative train loss = 0.008446763269603252, Batch = 400\n",
      "Cumulative train loss = 0.010585946962237358, Batch = 500\n",
      "Cumulative train loss = 0.012686174362897873, Batch = 600\n",
      "Cumulative train loss = 0.014797266572713852, Batch = 700\n",
      "Cumulative validation loss = 0.000260169617831707, Batch = 0\n",
      "Epoch 16 train/val loss: 0.0149/0.0193 \n",
      " train/val accuracy: 0.6653/0.5819\n",
      "\n",
      "\n",
      "Cumulative train loss = 2.075634620268829e-05, Batch = 0\n",
      "Cumulative train loss = 0.0020900110248476267, Batch = 100\n",
      "Cumulative train loss = 0.0041598305106163025, Batch = 200\n",
      "Cumulative train loss = 0.006232311017811298, Batch = 300\n",
      "Cumulative train loss = 0.0083480728790164, Batch = 400\n",
      "Cumulative train loss = 0.010439778678119183, Batch = 500\n",
      "Cumulative train loss = 0.012480046600103378, Batch = 600\n",
      "Cumulative train loss = 0.014578079804778099, Batch = 700\n",
      "Cumulative validation loss = 0.00021998738520778716, Batch = 0\n",
      "Epoch 17 train/val loss: 0.0146/0.0177 \n",
      " train/val accuracy: 0.6714/0.6043\n",
      "\n",
      "\n",
      "Cumulative train loss = 2.1868429030291736e-05, Batch = 0\n",
      "Cumulative train loss = 0.0020564759615808725, Batch = 100\n",
      "Cumulative train loss = 0.004144337028264999, Batch = 200\n",
      "Cumulative train loss = 0.006152755580842495, Batch = 300\n",
      "Cumulative train loss = 0.008234133012592793, Batch = 400\n",
      "Cumulative train loss = 0.010292847640812397, Batch = 500\n",
      "Cumulative train loss = 0.012334033846855164, Batch = 600\n",
      "Cumulative train loss = 0.01434098370373249, Batch = 700\n",
      "Cumulative validation loss = 0.00021237629698589444, Batch = 0\n",
      "Epoch 18 train/val loss: 0.0144/0.0166 \n",
      " train/val accuracy: 0.6761/0.6271\n",
      "\n",
      "\n",
      "Cumulative train loss = 2.3593758669449016e-05, Batch = 0\n",
      "Cumulative train loss = 0.001972917700186372, Batch = 100\n",
      "Cumulative train loss = 0.004014160018414259, Batch = 200\n",
      "Cumulative train loss = 0.006034350488334894, Batch = 300\n",
      "Cumulative train loss = 0.007996688596904278, Batch = 400\n",
      "Cumulative train loss = 0.010048088617622852, Batch = 500\n",
      "Cumulative train loss = 0.01208511833101511, Batch = 600\n",
      "Cumulative train loss = 0.014123287051916122, Batch = 700\n",
      "Cumulative validation loss = 0.0002284141373820603, Batch = 0\n",
      "Epoch 19 train/val loss: 0.0142/0.0172 \n",
      " train/val accuracy: 0.6819/0.6211\n",
      "\n",
      "\n",
      "Cumulative train loss = 2.0344426957308315e-05, Batch = 0\n",
      "Cumulative train loss = 0.002024989342316985, Batch = 100\n",
      "Cumulative train loss = 0.004009185824543238, Batch = 200\n",
      "Cumulative train loss = 0.005980139132589102, Batch = 300\n",
      "Cumulative train loss = 0.007963846437633038, Batch = 400\n",
      "Cumulative train loss = 0.009959978982806206, Batch = 500\n",
      "Cumulative train loss = 0.011931810528039932, Batch = 600\n",
      "Cumulative train loss = 0.013944278471171856, Batch = 700\n",
      "Cumulative validation loss = 0.0002809108409564942, Batch = 0\n",
      "Epoch 20 train/val loss: 0.0140/0.0214 \n",
      " train/val accuracy: 0.6868/0.5477\n",
      "\n",
      "\n"
     ]
    }
   ],
   "source": [
    "train_model(mo1,train_dl,val_dl,opt1,loss_fn,epochs=20)"
   ]
  },
  {
   "cell_type": "markdown",
   "id": "8d563c82-515a-4fe6-95c6-558917367ee3",
   "metadata": {},
   "source": [
    "## LOAD PRETRAINED RESNET50 NN AND TUNE TO CIFAR10 CLASSIFICATION TASK"
   ]
  },
  {
   "cell_type": "code",
   "execution_count": null,
   "id": "e9a0a216-0bdc-442f-a780-d7a4d26b5445",
   "metadata": {},
   "outputs": [],
   "source": [
    "ref_mo = resnet50(weights=ResNet50_Weights.IMAGENET1K_V1)\n"
   ]
  },
  {
   "cell_type": "code",
   "execution_count": null,
   "id": "c2b65db7-a6dd-4d17-b7a4-2fb54ef57a81",
   "metadata": {},
   "outputs": [],
   "source": [
    "for p in ref_mo.parameters():\n",
    "    p.requires_grad = False"
   ]
  },
  {
   "cell_type": "code",
   "execution_count": null,
   "id": "52d9fc22-1da2-4cd6-9881-9157f6d6d398",
   "metadata": {},
   "outputs": [],
   "source": [
    "ref_mo.fc = torch.nn.Sequential(\n",
    "    torch.nn.Dropout(p=0.2),\n",
    "    torch.nn.Linear(in_features=2048,out_features=512,bias=True),\n",
    "    torch.nn.BatchNorm1d(512),\n",
    "    torch.nn.ReLU(),\n",
    "    torch.nn.Linear(in_features=512,out_features=32,bias=True),\n",
    "    torch.nn.BatchNorm1d(32),\n",
    "    torch.nn.ReLU(),\n",
    "    torch.nn.Linear(in_features=32,out_features=10,bias=True)\n",
    ")"
   ]
  },
  {
   "cell_type": "code",
   "execution_count": null,
   "id": "f419181a-73d2-4df4-b8a3-b2fc2d438760",
   "metadata": {},
   "outputs": [],
   "source": [
    "ref_mo = ref_mo.to(device)"
   ]
  },
  {
   "cell_type": "code",
   "execution_count": null,
   "id": "044dcecd-e809-41f0-87d3-6b0f9e323e94",
   "metadata": {},
   "outputs": [],
   "source": [
    "ref_opt = torch.optim.SGD(ref_mo.parameters(),lr=0.01)"
   ]
  },
  {
   "cell_type": "code",
   "execution_count": null,
   "id": "e64a40c5-e156-43bc-9d78-b5cc28b6f575",
   "metadata": {},
   "outputs": [],
   "source": [
    "ref_loss = torch.nn.CrossEntropyLoss()"
   ]
  },
  {
   "cell_type": "markdown",
   "id": "0a887712-9319-45d3-bf4e-561143aa198f",
   "metadata": {},
   "source": [
    "## TRAIN RESNET50 OUTPUT LAYERS"
   ]
  },
  {
   "cell_type": "code",
   "execution_count": null,
   "id": "1800b400-6d95-45fd-be2b-420f1cd06de5",
   "metadata": {},
   "outputs": [],
   "source": [
    "train_model(ref_mo,train_dl,val_dl,ref_opt,ref_loss,epochs=10)"
   ]
  },
  {
   "cell_type": "markdown",
   "id": "0c30d542-c9a7-4170-a953-ec21876512c9",
   "metadata": {},
   "source": [
    "## DEFINE EVALUATION LOOP"
   ]
  },
  {
   "cell_type": "code",
   "execution_count": 27,
   "id": "e00e23b9-5cd1-4d84-809e-034fb1f43de1",
   "metadata": {},
   "outputs": [],
   "source": [
    "def eval_model(model,test_data,loss_fn):\n",
    "    model.eval()\n",
    "    cum_test_loss = 0\n",
    "    test_acc = 0\n",
    "    n_samples = len(test_data.dataset)\n",
    "    with torch.no_grad():\n",
    "        for i,(example,label) in enumerate(test_data):\n",
    "            example = example.to(device)\n",
    "            label = label.to(device)\n",
    "            pred = model(example)\n",
    "            loss = loss_fn(pred,label)\n",
    "            cum_test_loss += loss\n",
    "            vals,lbl_classes = label.max(dim=1)\n",
    "            vals,pred_classes = pred.max(dim=1)\n",
    "            test_acc += sum(pred_classes==lbl_classes)\n",
    "        cum_test_loss = cum_test_loss/n_samples\n",
    "        test_acc = test_acc/n_samples\n",
    "        info_str = f'Test loss: {cum_test_loss:.4f} \\n test accuracy: {test_acc:.4f}'\n",
    "        print(info_str)\n",
    "        \n",
    "            \n",
    "        "
   ]
  },
  {
   "cell_type": "markdown",
   "id": "edae4bb7-7ee4-4d45-b9a2-469bf5af52e4",
   "metadata": {},
   "source": [
    "## EVALUATE MODEL PERFORMANCE ON TEST SET"
   ]
  },
  {
   "cell_type": "code",
   "execution_count": 48,
   "id": "df9b1370-7bf2-41a8-a92b-7c8043c86ce1",
   "metadata": {},
   "outputs": [
    {
     "name": "stdout",
     "output_type": "stream",
     "text": [
      "Test loss: 0.0167 \n",
      " test accuracy: 0.6229\n"
     ]
    }
   ],
   "source": [
    "eval_model(mo,test_dl,loss_fn)"
   ]
  },
  {
   "cell_type": "markdown",
   "id": "aeb7f9b4-e724-4490-bba7-a8289be91596",
   "metadata": {},
   "source": [
    "## LOAD BEST MODEL AND SAVE WITH PICKLE"
   ]
  },
  {
   "cell_type": "code",
   "execution_count": 46,
   "id": "adeaf3e0-15b9-4ebd-8b75-13892ef6dd48",
   "metadata": {},
   "outputs": [],
   "source": [
    "mo = SmallCNN()"
   ]
  },
  {
   "cell_type": "code",
   "execution_count": 47,
   "id": "91562e33-1f5f-4642-be38-5442065b410c",
   "metadata": {},
   "outputs": [
    {
     "data": {
      "text/plain": [
       "SmallCNN(\n",
       "  (relu): ReLU()\n",
       "  (dropout): Dropout(p=0.2, inplace=False)\n",
       "  (c1): Conv2d(3, 8, kernel_size=(3, 3), stride=(1, 1), padding=(1, 1), bias=False)\n",
       "  (bn1): BatchNorm2d(8, eps=1e-05, momentum=0.1, affine=True, track_running_stats=True)\n",
       "  (pool1): MaxPool2d(kernel_size=2, stride=2, padding=0, dilation=1, ceil_mode=False)\n",
       "  (c2): Conv2d(8, 16, kernel_size=(3, 3), stride=(1, 1), padding=(1, 1), bias=False)\n",
       "  (bn2): BatchNorm2d(16, eps=1e-05, momentum=0.1, affine=True, track_running_stats=True)\n",
       "  (pool2): MaxPool2d(kernel_size=2, stride=2, padding=0, dilation=1, ceil_mode=False)\n",
       "  (c3): Conv2d(16, 32, kernel_size=(3, 3), stride=(1, 1), padding=(1, 1), bias=False)\n",
       "  (bn3): BatchNorm2d(32, eps=1e-05, momentum=0.1, affine=True, track_running_stats=True)\n",
       "  (pool3): MaxPool2d(kernel_size=2, stride=2, padding=0, dilation=1, ceil_mode=False)\n",
       "  (lin1): Linear(in_features=512, out_features=64, bias=True)\n",
       "  (bn4): BatchNorm1d(64, eps=1e-05, momentum=0.1, affine=True, track_running_stats=True)\n",
       "  (lin2): Linear(in_features=64, out_features=32, bias=True)\n",
       "  (bn5): BatchNorm1d(32, eps=1e-05, momentum=0.1, affine=True, track_running_stats=True)\n",
       "  (lin3): Linear(in_features=32, out_features=10, bias=True)\n",
       ")"
      ]
     },
     "execution_count": 47,
     "metadata": {},
     "output_type": "execute_result"
    }
   ],
   "source": [
    "checkpoint = torch.load(\"../trained_models/cifar_model_v1_it18.pt\",weights_only=True)\n",
    "mo.load_state_dict(checkpoint['model_state_dict'])\n",
    "mo.eval()"
   ]
  },
  {
   "cell_type": "code",
   "execution_count": 49,
   "id": "02fa1e74-158b-4867-883d-9136e093a053",
   "metadata": {},
   "outputs": [
    {
     "data": {
      "text/plain": [
       "SmallCNN(\n",
       "  (relu): ReLU()\n",
       "  (dropout): Dropout(p=0.2, inplace=False)\n",
       "  (c1): Conv2d(3, 8, kernel_size=(3, 3), stride=(1, 1), padding=(1, 1), bias=False)\n",
       "  (bn1): BatchNorm2d(8, eps=1e-05, momentum=0.1, affine=True, track_running_stats=True)\n",
       "  (pool1): MaxPool2d(kernel_size=2, stride=2, padding=0, dilation=1, ceil_mode=False)\n",
       "  (c2): Conv2d(8, 16, kernel_size=(3, 3), stride=(1, 1), padding=(1, 1), bias=False)\n",
       "  (bn2): BatchNorm2d(16, eps=1e-05, momentum=0.1, affine=True, track_running_stats=True)\n",
       "  (pool2): MaxPool2d(kernel_size=2, stride=2, padding=0, dilation=1, ceil_mode=False)\n",
       "  (c3): Conv2d(16, 32, kernel_size=(3, 3), stride=(1, 1), padding=(1, 1), bias=False)\n",
       "  (bn3): BatchNorm2d(32, eps=1e-05, momentum=0.1, affine=True, track_running_stats=True)\n",
       "  (pool3): MaxPool2d(kernel_size=2, stride=2, padding=0, dilation=1, ceil_mode=False)\n",
       "  (lin1): Linear(in_features=512, out_features=64, bias=True)\n",
       "  (bn4): BatchNorm1d(64, eps=1e-05, momentum=0.1, affine=True, track_running_stats=True)\n",
       "  (lin2): Linear(in_features=64, out_features=32, bias=True)\n",
       "  (bn5): BatchNorm1d(32, eps=1e-05, momentum=0.1, affine=True, track_running_stats=True)\n",
       "  (lin3): Linear(in_features=32, out_features=10, bias=True)\n",
       ")"
      ]
     },
     "execution_count": 49,
     "metadata": {},
     "output_type": "execute_result"
    }
   ],
   "source": [
    "device = torch.device(\"cpu\")\n",
    "mo.to(device)"
   ]
  },
  {
   "cell_type": "code",
   "execution_count": 50,
   "id": "f271e878-fca4-49d0-98c0-fa21dee35c14",
   "metadata": {},
   "outputs": [],
   "source": [
    "output_file = 'cifar_model_cpu_v1.bin'"
   ]
  },
  {
   "cell_type": "code",
   "execution_count": 51,
   "id": "9ff59730-3cf5-47eb-bf8b-77c2ef84eb3a",
   "metadata": {},
   "outputs": [],
   "source": [
    "with open(output_file,'wb') as f_out:\n",
    "    pickle.dump((tf,mo),f_out)"
   ]
  },
  {
   "cell_type": "markdown",
   "id": "f84b8771-e046-4b4e-94aa-b6797789b47a",
   "metadata": {},
   "source": [
    "## EVALUATE MODIFIED RESNET50 PERFORMANCE ON TEST SET"
   ]
  },
  {
   "cell_type": "code",
   "execution_count": null,
   "id": "b91e2260-e2d9-42c7-b662-eb0a0508c2f5",
   "metadata": {},
   "outputs": [],
   "source": [
    "eval_model(ref_mo,test_dl,ref_loss)"
   ]
  },
  {
   "cell_type": "code",
   "execution_count": null,
   "id": "0e16d3d0-7ca7-497f-b3da-cec72d5ea2ae",
   "metadata": {},
   "outputs": [],
   "source": [
    "input_file = '..\\models\\cifar_model_cpu_v1.bin'\n",
    "with open(input_file,'rb') as f_in:\n",
    "    trf,mod = pickle.load(f_in)"
   ]
  },
  {
   "cell_type": "code",
   "execution_count": null,
   "id": "99561c9a-826d-4326-9e42-1e0d54c15f37",
   "metadata": {},
   "outputs": [],
   "source": [
    "mod.__class__"
   ]
  },
  {
   "cell_type": "code",
   "execution_count": null,
   "id": "76a59571-5a06-4655-805f-6ccf23dad9bb",
   "metadata": {},
   "outputs": [],
   "source": []
  }
 ],
 "metadata": {
  "kernelspec": {
   "display_name": "Python 3 (ipykernel)",
   "language": "python",
   "name": "python3"
  },
  "language_info": {
   "codemirror_mode": {
    "name": "ipython",
    "version": 3
   },
   "file_extension": ".py",
   "mimetype": "text/x-python",
   "name": "python",
   "nbconvert_exporter": "python",
   "pygments_lexer": "ipython3",
   "version": "3.12.0"
  }
 },
 "nbformat": 4,
 "nbformat_minor": 5
}
