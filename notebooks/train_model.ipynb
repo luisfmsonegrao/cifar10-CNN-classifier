{
 "cells": [
  {
   "cell_type": "code",
   "execution_count": 1,
   "id": "44c8f338-1038-4be7-9c35-7d8f62bb51c3",
   "metadata": {},
   "outputs": [],
   "source": [
    "import numpy as np\n",
    "import torch\n",
    "from torch import optim\n",
    "import torchvision\n",
    "from torchvision import transforms\n",
    "from torchvision.transforms import Lambda\n",
    "import os, sys\n",
    "import matplotlib.pyplot as plt\n",
    "import pickle\n",
    "from torchvision.models.resnet import resnet50, ResNet50_Weights"
   ]
  },
  {
   "cell_type": "code",
   "execution_count": 2,
   "id": "ab3b1eb9-6dd5-474a-94bb-f4112ab4efb5",
   "metadata": {},
   "outputs": [],
   "source": [
    "file_path = os.path.dirname(os.path.abspath('.'))\n",
    "sys.path.append(file_path)"
   ]
  },
  {
   "cell_type": "code",
   "execution_count": 3,
   "id": "5d805b0d-9619-42ec-b52b-0d1838256c97",
   "metadata": {},
   "outputs": [
    {
     "data": {
      "text/plain": [
       "'C:\\\\Users\\\\negra\\\\mymlprojects\\\\cifar10'"
      ]
     },
     "execution_count": 3,
     "metadata": {},
     "output_type": "execute_result"
    }
   ],
   "source": [
    "file_path"
   ]
  },
  {
   "cell_type": "code",
   "execution_count": 4,
   "id": "35d69ae0-a0d8-412b-b125-5b41f4a5fcbc",
   "metadata": {},
   "outputs": [],
   "source": [
    "from src.CIFAR10dataset import CIFAR10dataset\n",
    "from src.SmallCNN import SmallCNN"
   ]
  },
  {
   "cell_type": "markdown",
   "id": "ec5ac5c1-08f1-4f8c-ae93-45b3e09a21f1",
   "metadata": {},
   "source": [
    "## DEFINE IMAGE TRANSFORMS"
   ]
  },
  {
   "cell_type": "code",
   "execution_count": 18,
   "id": "e927750a-2f74-482d-b641-9c4f36699416",
   "metadata": {},
   "outputs": [],
   "source": [
    "cifar_mean = [0.4914,0.4822,0.4465]\n",
    "cifar_stdev = [0.2470,0.2435,0.2616]"
   ]
  },
  {
   "cell_type": "code",
   "execution_count": 19,
   "id": "8c4f38e8-e75b-40ce-b364-7e776d37b3f5",
   "metadata": {},
   "outputs": [],
   "source": [
    "tf = transforms.Compose([transforms.ToTensor(),transforms.Normalize(cifar_mean,cifar_stdev)])\n",
    "tgt_tf = Lambda(lambda y: torch.zeros(10, dtype=torch.float).scatter_(dim=0, index=torch.tensor(y), value=1))"
   ]
  },
  {
   "cell_type": "markdown",
   "id": "789f2164-3eab-409d-bb83-f36a9560505a",
   "metadata": {},
   "source": [
    "## LOAD CIFAR10 DATASET"
   ]
  },
  {
   "cell_type": "code",
   "execution_count": 7,
   "id": "a961a9f3-e3e8-477b-8018-89b161e9c651",
   "metadata": {},
   "outputs": [],
   "source": [
    "train_val_ds = CIFAR10dataset(root='../data',train=True,transform=tf,target_transform = tgt_tf)\n",
    "test_ds = CIFAR10dataset(root='../data',train=False,transform=tf,target_transform=tgt_tf)"
   ]
  },
  {
   "cell_type": "code",
   "execution_count": 9,
   "id": "15b24909-ed11-44af-9b01-a84dae116cc1",
   "metadata": {},
   "outputs": [],
   "source": [
    "gen1 = torch.Generator().manual_seed(1)\n",
    "train_frac = 0.9\n",
    "val_frac = 1 - train_frac\n",
    "train_ds, val_ds = torch.utils.data.random_split(train_val_ds,[train_frac,val_frac],generator=gen1)"
   ]
  },
  {
   "cell_type": "code",
   "execution_count": 10,
   "id": "3c5ea52e-584e-4317-8b16-c24ce9f3e88b",
   "metadata": {},
   "outputs": [],
   "source": [
    "train_dl = torch.utils.data.DataLoader(train_ds, batch_size=64, shuffle=True)\n",
    "val_dl = torch.utils.data.DataLoader(val_ds,batch_size=64,shuffle=False)\n",
    "test_dl = torch.utils.data.DataLoader(test_ds, batch_size=64, shuffle=False)"
   ]
  },
  {
   "cell_type": "code",
   "execution_count": 20,
   "id": "68dc93fd-df51-4df0-9c5d-bd6e5e80c878",
   "metadata": {},
   "outputs": [],
   "source": [
    "def show_image(im):\n",
    "    stdev = torch.tensor(cifar_stdev)\n",
    "    stdev = stdev.reshape((3,1,1))\n",
    "    mean = torch.tensor(cifar_mean)\n",
    "    mean = mean.reshape((3,1,1))\n",
    "    im = im*stdev+mean\n",
    "    im = torch.permute(im,(1,2,0))\n",
    "    plt.imshow(im)\n",
    "    plt.show()"
   ]
  },
  {
   "cell_type": "code",
   "execution_count": 21,
   "id": "32e11562-3244-4878-9075-bcb95694eb4d",
   "metadata": {},
   "outputs": [
    {
     "data": {
      "image/png": "[encoded data removed]",
      "text/plain": [
       "<Figure size 640x480 with 1 Axes>"
      ]
     },
     "metadata": {},
     "output_type": "display_data"
    }
   ],
   "source": [
    "im1,label = next(iter(train_dl))\n",
    "show_image(im1[0])"
   ]
  },
  {
   "cell_type": "markdown",
   "id": "5016a207-5b04-4bf0-acbf-57f72489ef82",
   "metadata": {},
   "source": [
    "## DEFINE MODEL, OPTIMIZER, LOSS FUNCTION, DEVICE"
   ]
  },
  {
   "cell_type": "code",
   "execution_count": 31,
   "id": "09b9d9d8-1fdd-41fe-9596-c6e8329afbba",
   "metadata": {},
   "outputs": [],
   "source": [
    "device = 'cuda' if torch.cuda.is_available() else 'cpu'\n",
    "mo1 = SmallCNN().to(device)\n",
    "opt1 = optim.SGD(mo1.parameters(),lr=0.005)"
   ]
  },
  {
   "cell_type": "code",
   "execution_count": 32,
   "id": "00c95980-2c02-4f02-a8e0-3e64acea41ad",
   "metadata": {},
   "outputs": [],
   "source": [
    "loss_fn = torch.nn.CrossEntropyLoss()"
   ]
  },
  {
   "cell_type": "markdown",
   "id": "137a84d0-8a06-4243-87b8-42f4114e6606",
   "metadata": {},
   "source": [
    "## DEFINE TRAINING LOOP"
   ]
  },
  {
   "cell_type": "code",
   "execution_count": 33,
   "id": "5cea9c0a-ff69-405b-b8f9-5971869ac519",
   "metadata": {},
   "outputs": [
    {
     "name": "stderr",
     "output_type": "stream",
     "text": [
      "<>:50: SyntaxWarning: invalid escape sequence '\\m'\n",
      "<>:50: SyntaxWarning: invalid escape sequence '\\m'\n",
      "C:\\Users\\negra\\AppData\\Local\\Temp\\ipykernel_23604\\3657586241.py:50: SyntaxWarning: invalid escape sequence '\\m'\n",
      "  f'..\\models\\cifar_model_v1_it{e}.pt')\n"
     ]
    }
   ],
   "source": [
    "def train_model(model,train_data,val_data,optimizer,loss_fn,epochs=1):\n",
    "    n_train_samples = len(train_data.dataset.indices)\n",
    "    n_val_samples = len(val_data.dataset.indices)\n",
    "    best_acc = 0\n",
    "    for e in range(1,epochs+1):\n",
    "        model.train()\n",
    "        cum_train_loss = 0\n",
    "        cum_val_loss = 0\n",
    "        train_acc = 0\n",
    "        val_acc = 0\n",
    "        for i,(example,label) in enumerate(train_data):\n",
    "            example = example.to(device)\n",
    "            label = label.to(device)\n",
    "            vals,lbl_classes = label.max(dim=1)\n",
    "            pred = model(example)\n",
    "            vals, prd_classes = pred.max(dim=1)\n",
    "            loss = loss_fn(pred,label)\n",
    "            loss.backward()\n",
    "            optimizer.step()\n",
    "            optimizer.zero_grad()\n",
    "            cum_train_loss += loss/n_train_samples\n",
    "            train_acc += sum(lbl_classes == prd_classes)\n",
    "            if i % 100 == 0:\n",
    "                print(f'Cumulative train loss = {cum_train_loss}, Batch = {i}')\n",
    "        model.eval()\n",
    "        with torch.no_grad():\n",
    "            for i,(example,label) in enumerate(val_data):\n",
    "                example = example.to(device)\n",
    "                label = label.to(device)\n",
    "                vals,lbl_classes = label.max(dim=1)\n",
    "                pred = model(example)\n",
    "                vals,prd_classes = pred.max(dim=1)\n",
    "                loss = loss_fn(pred,label)\n",
    "                cum_val_loss += loss/n_val_samples\n",
    "                val_acc += sum(lbl_classes == prd_classes)\n",
    "                if i % 100 == 0:\n",
    "                    print(f'Cumulative validation loss = {cum_val_loss}, Batch = {i}')\n",
    "            train_acc = train_acc/n_train_samples\n",
    "            val_acc = val_acc/n_val_samples\n",
    "            info_str = f'Epoch {e} train/val loss: {cum_train_loss:.4f}/{cum_val_loss:.4f} \\n train/val accuracy: {train_acc:.4f}/{val_acc:.4f}'\n",
    "            print(info_str)\n",
    "            print('\\n')\n",
    "            if val_acc > best_acc + 0.01:\n",
    "                best_acc = val_acc\n",
    "                torch.save({'epoch': e,\n",
    "                            'model_state_dict': model.state_dict(),\n",
    "                            'optimizer_state_dict':optimizer.state_dict(),\n",
    "                            'loss':cum_val_loss,\n",
    "                            'acc':val_acc},\n",
    "                           f'..\\models\\cifar_model_v1_it{e}.pt')\n",
    "            \n",
    "            \n",
    "    "
   ]
  },
  {
   "cell_type": "markdown",
   "id": "773c24dc-4da2-4839-a355-e7a7b0db52d6",
   "metadata": {},
   "source": [
    "## TRAIN MODEL"
   ]
  },
  {
   "cell_type": "code",
   "execution_count": 34,
   "id": "794ca035-09e7-4224-b967-1dc00a204d50",
   "metadata": {},
   "outputs": [
    {
     "name": "stdout",
     "output_type": "stream",
     "text": [
      "Cumulative train loss = 5.2288523875176907e-05, Batch = 0\n",
      "Cumulative train loss = 0.005016714334487915, Batch = 100\n",
      "Cumulative train loss = 0.009655636735260487, Batch = 200\n",
      "Cumulative train loss = 0.01410465594381094, Batch = 300\n",
      "Cumulative train loss = 0.018401095643639565, Batch = 400\n",
      "Cumulative train loss = 0.022577278316020966, Batch = 500\n",
      "Cumulative train loss = 0.026620281860232353, Batch = 600\n",
      "Cumulative train loss = 0.030592037364840508, Batch = 700\n",
      "Cumulative validation loss = 0.000372387352399528, Batch = 0\n",
      "Epoch 1 train/val loss: 0.0307/0.0296 \n",
      " train/val accuracy: 0.3171/0.3257\n",
      "\n",
      "\n",
      "Cumulative train loss = 3.834317612927407e-05, Batch = 0\n",
      "Cumulative train loss = 0.003901868360117078, Batch = 100\n",
      "Cumulative train loss = 0.007683132775127888, Batch = 200\n",
      "Cumulative train loss = 0.011374392546713352, Batch = 300\n",
      "Cumulative train loss = 0.015043859370052814, Batch = 400\n",
      "Cumulative train loss = 0.018628666177392006, Batch = 500\n",
      "Cumulative train loss = 0.02218238264322281, Batch = 600\n",
      "Cumulative train loss = 0.02565988153219223, Batch = 700\n",
      "Cumulative validation loss = 0.00032971976906992495, Batch = 0\n",
      "Epoch 2 train/val loss: 0.0258/0.0261 \n",
      " train/val accuracy: 0.4289/0.4109\n",
      "\n",
      "\n",
      "Cumulative train loss = 3.592339271563105e-05, Batch = 0\n",
      "Cumulative train loss = 0.003471420146524906, Batch = 100\n",
      "Cumulative train loss = 0.0068456875160336494, Batch = 200\n",
      "Cumulative train loss = 0.010187014937400818, Batch = 300\n",
      "Cumulative train loss = 0.013541043736040592, Batch = 400\n",
      "Cumulative train loss = 0.016835248097777367, Batch = 500\n",
      "Cumulative train loss = 0.020122215151786804, Batch = 600\n",
      "Cumulative train loss = 0.023327674716711044, Batch = 700\n",
      "Cumulative validation loss = 0.0002907909220084548, Batch = 0\n",
      "Epoch 3 train/val loss: 0.0234/0.0235 \n",
      " train/val accuracy: 0.4717/0.4669\n",
      "\n",
      "\n",
      "Cumulative train loss = 3.350804399815388e-05, Batch = 0\n",
      "Cumulative train loss = 0.003247817512601614, Batch = 100\n",
      "Cumulative train loss = 0.006397823337465525, Batch = 200\n",
      "Cumulative train loss = 0.0095484284684062, Batch = 300\n",
      "Cumulative train loss = 0.012687692418694496, Batch = 400\n",
      "Cumulative train loss = 0.015786347910761833, Batch = 500\n",
      "Cumulative train loss = 0.018874123692512512, Batch = 600\n",
      "Cumulative train loss = 0.021885842084884644, Batch = 700\n",
      "Cumulative validation loss = 0.0002801365917548537, Batch = 0\n",
      "Epoch 4 train/val loss: 0.0220/0.0221 \n",
      " train/val accuracy: 0.5015/0.4933\n",
      "\n",
      "\n",
      "Cumulative train loss = 3.024543184437789e-05, Batch = 0\n",
      "Cumulative train loss = 0.003040276002138853, Batch = 100\n",
      "Cumulative train loss = 0.006043773610144854, Batch = 200\n",
      "Cumulative train loss = 0.009000403806567192, Batch = 300\n",
      "Cumulative train loss = 0.011983474716544151, Batch = 400\n",
      "Cumulative train loss = 0.014922439120709896, Batch = 500\n",
      "Cumulative train loss = 0.017821433022618294, Batch = 600\n",
      "Cumulative train loss = 0.02075927145779133, Batch = 700\n",
      "Cumulative validation loss = 0.00027950952062383294, Batch = 0\n",
      "Epoch 5 train/val loss: 0.0209/0.0229 \n",
      " train/val accuracy: 0.5274/0.4833\n",
      "\n",
      "\n",
      "Cumulative train loss = 2.511251477699261e-05, Batch = 0\n",
      "Cumulative train loss = 0.00290687452070415, Batch = 100\n",
      "Cumulative train loss = 0.005761869251728058, Batch = 200\n",
      "Cumulative train loss = 0.008605984039604664, Batch = 300\n",
      "Cumulative train loss = 0.011466271243989468, Batch = 400\n",
      "Cumulative train loss = 0.014293386600911617, Batch = 500\n",
      "Cumulative train loss = 0.01711929962038994, Batch = 600\n",
      "Cumulative train loss = 0.01993168517947197, Batch = 700\n",
      "Cumulative validation loss = 0.000265650189248845, Batch = 0\n",
      "Epoch 6 train/val loss: 0.0200/0.0211 \n",
      " train/val accuracy: 0.5449/0.5225\n",
      "\n",
      "\n",
      "Cumulative train loss = 2.8991526050958782e-05, Batch = 0\n",
      "Cumulative train loss = 0.0027174046263098717, Batch = 100\n",
      "Cumulative train loss = 0.005494686309248209, Batch = 200\n",
      "Cumulative train loss = 0.008282262831926346, Batch = 300\n",
      "Cumulative train loss = 0.011045734398066998, Batch = 400\n",
      "Cumulative train loss = 0.013804219663143158, Batch = 500\n",
      "Cumulative train loss = 0.016537198796868324, Batch = 600\n",
      "Cumulative train loss = 0.019230026751756668, Batch = 700\n",
      "Cumulative validation loss = 0.0002606195048429072, Batch = 0\n",
      "Epoch 7 train/val loss: 0.0193/0.0219 \n",
      " train/val accuracy: 0.5629/0.5141\n",
      "\n",
      "\n",
      "Cumulative train loss = 2.4404693249380216e-05, Batch = 0\n",
      "Cumulative train loss = 0.0026941290125250816, Batch = 100\n",
      "Cumulative train loss = 0.005364914424717426, Batch = 200\n",
      "Cumulative train loss = 0.00802603643387556, Batch = 300\n",
      "Cumulative train loss = 0.010650962591171265, Batch = 400\n",
      "Cumulative train loss = 0.013261057436466217, Batch = 500\n",
      "Cumulative train loss = 0.015882400795817375, Batch = 600\n",
      "Cumulative train loss = 0.01854165829718113, Batch = 700\n",
      "Cumulative validation loss = 0.0002592455130070448, Batch = 0\n",
      "Epoch 8 train/val loss: 0.0186/0.0202 \n",
      " train/val accuracy: 0.5778/0.5381\n",
      "\n",
      "\n",
      "Cumulative train loss = 2.8684054996119812e-05, Batch = 0\n",
      "Cumulative train loss = 0.0026240264996886253, Batch = 100\n",
      "Cumulative train loss = 0.00517304940149188, Batch = 200\n",
      "Cumulative train loss = 0.007765526417642832, Batch = 300\n",
      "Cumulative train loss = 0.010343176312744617, Batch = 400\n",
      "Cumulative train loss = 0.012881483882665634, Batch = 500\n",
      "Cumulative train loss = 0.01544972788542509, Batch = 600\n",
      "Cumulative train loss = 0.01801213063299656, Batch = 700\n",
      "Cumulative validation loss = 0.0002413706824881956, Batch = 0\n",
      "Epoch 9 train/val loss: 0.0181/0.0197 \n",
      " train/val accuracy: 0.5902/0.5541\n",
      "\n",
      "\n",
      "Cumulative train loss = 2.3493021217291243e-05, Batch = 0\n",
      "Cumulative train loss = 0.0025094137527048588, Batch = 100\n",
      "Cumulative train loss = 0.004982383456081152, Batch = 200\n",
      "Cumulative train loss = 0.007490586489439011, Batch = 300\n",
      "Cumulative train loss = 0.009972672909498215, Batch = 400\n",
      "Cumulative train loss = 0.012417342513799667, Batch = 500\n",
      "Cumulative train loss = 0.014898591674864292, Batch = 600\n",
      "Cumulative train loss = 0.017430253326892853, Batch = 700\n",
      "Cumulative validation loss = 0.0002453064080327749, Batch = 0\n",
      "Epoch 10 train/val loss: 0.0175/0.0192 \n",
      " train/val accuracy: 0.6041/0.5717\n",
      "\n",
      "\n",
      "Cumulative train loss = 2.3520067770732567e-05, Batch = 0\n",
      "Cumulative train loss = 0.0024987091310322285, Batch = 100\n",
      "Cumulative train loss = 0.004899631720036268, Batch = 200\n",
      "Cumulative train loss = 0.0073477462865412235, Batch = 300\n",
      "Cumulative train loss = 0.00976417027413845, Batch = 400\n",
      "Cumulative train loss = 0.012154454365372658, Batch = 500\n",
      "Cumulative train loss = 0.014552464708685875, Batch = 600\n",
      "Cumulative train loss = 0.016979843378067017, Batch = 700\n",
      "Cumulative validation loss = 0.0002704806684050709, Batch = 0\n",
      "Epoch 11 train/val loss: 0.0171/0.0206 \n",
      " train/val accuracy: 0.6155/0.5451\n",
      "\n",
      "\n",
      "Cumulative train loss = 1.9770524886553176e-05, Batch = 0\n",
      "Cumulative train loss = 0.0023555774241685867, Batch = 100\n",
      "Cumulative train loss = 0.004728134721517563, Batch = 200\n",
      "Cumulative train loss = 0.007154553197324276, Batch = 300\n",
      "Cumulative train loss = 0.009529884904623032, Batch = 400\n",
      "Cumulative train loss = 0.011848844587802887, Batch = 500\n",
      "Cumulative train loss = 0.014210941269993782, Batch = 600\n",
      "Cumulative train loss = 0.016590813174843788, Batch = 700\n",
      "Cumulative validation loss = 0.00021221641509328038, Batch = 0\n",
      "Epoch 12 train/val loss: 0.0167/0.0186 \n",
      " train/val accuracy: 0.6247/0.5901\n",
      "\n",
      "\n",
      "Cumulative train loss = 2.0291112377890386e-05, Batch = 0\n",
      "Cumulative train loss = 0.002341816434636712, Batch = 100\n",
      "Cumulative train loss = 0.004647314082831144, Batch = 200\n",
      "Cumulative train loss = 0.00695180194452405, Batch = 300\n",
      "Cumulative train loss = 0.009230036288499832, Batch = 400\n",
      "Cumulative train loss = 0.011544025503098965, Batch = 500\n",
      "Cumulative train loss = 0.013857443816959858, Batch = 600\n",
      "Cumulative train loss = 0.016177447512745857, Batch = 700\n",
      "Cumulative validation loss = 0.0002267322997795418, Batch = 0\n",
      "Epoch 13 train/val loss: 0.0162/0.0203 \n",
      " train/val accuracy: 0.6363/0.5635\n",
      "\n",
      "\n",
      "Cumulative train loss = 2.408712862234097e-05, Batch = 0\n",
      "Cumulative train loss = 0.0023046419955790043, Batch = 100\n",
      "Cumulative train loss = 0.004546991549432278, Batch = 200\n",
      "Cumulative train loss = 0.006782033480703831, Batch = 300\n",
      "Cumulative train loss = 0.009077329188585281, Batch = 400\n",
      "Cumulative train loss = 0.011379582807421684, Batch = 500\n",
      "Cumulative train loss = 0.013616575859487057, Batch = 600\n",
      "Cumulative train loss = 0.01583516225218773, Batch = 700\n",
      "Cumulative validation loss = 0.0002567298070061952, Batch = 0\n",
      "Epoch 14 train/val loss: 0.0159/0.0200 \n",
      " train/val accuracy: 0.6437/0.5651\n",
      "\n",
      "\n",
      "Cumulative train loss = 2.3358063117484562e-05, Batch = 0\n",
      "Cumulative train loss = 0.0022073036525398493, Batch = 100\n",
      "Cumulative train loss = 0.004431916866451502, Batch = 200\n",
      "Cumulative train loss = 0.006638001184910536, Batch = 300\n",
      "Cumulative train loss = 0.008878500200808048, Batch = 400\n",
      "Cumulative train loss = 0.011110636405646801, Batch = 500\n",
      "Cumulative train loss = 0.013294506818056107, Batch = 600\n",
      "Cumulative train loss = 0.015551079995930195, Batch = 700\n",
      "Cumulative validation loss = 0.00021532221580855548, Batch = 0\n",
      "Epoch 15 train/val loss: 0.0156/0.0179 \n",
      " train/val accuracy: 0.6480/0.5961\n",
      "\n",
      "\n",
      "Cumulative train loss = 2.1988924345350824e-05, Batch = 0\n",
      "Cumulative train loss = 0.0022006365470588207, Batch = 100\n",
      "Cumulative train loss = 0.004366795998066664, Batch = 200\n",
      "Cumulative train loss = 0.00646499078720808, Batch = 300\n",
      "Cumulative train loss = 0.008680025115609169, Batch = 400\n",
      "Cumulative train loss = 0.010872150771319866, Batch = 500\n",
      "Cumulative train loss = 0.013073863461613655, Batch = 600\n",
      "Cumulative train loss = 0.015218270011246204, Batch = 700\n",
      "Cumulative validation loss = 0.0002248830714961514, Batch = 0\n",
      "Epoch 16 train/val loss: 0.0153/0.0178 \n",
      " train/val accuracy: 0.6563/0.5925\n",
      "\n",
      "\n",
      "Cumulative train loss = 1.9306668036733754e-05, Batch = 0\n",
      "Cumulative train loss = 0.0021229698322713375, Batch = 100\n",
      "Cumulative train loss = 0.004217218607664108, Batch = 200\n",
      "Cumulative train loss = 0.006358431652188301, Batch = 300\n",
      "Cumulative train loss = 0.008465594612061977, Batch = 400\n",
      "Cumulative train loss = 0.01060490682721138, Batch = 500\n",
      "Cumulative train loss = 0.012743688188493252, Batch = 600\n",
      "Cumulative train loss = 0.014917807653546333, Batch = 700\n",
      "Cumulative validation loss = 0.00021306145936250687, Batch = 0\n",
      "Epoch 17 train/val loss: 0.0150/0.0200 \n",
      " train/val accuracy: 0.6632/0.5729\n",
      "\n",
      "\n",
      "Cumulative train loss = 2.6532621632213704e-05, Batch = 0\n",
      "Cumulative train loss = 0.0021490254439413548, Batch = 100\n",
      "Cumulative train loss = 0.004243727307766676, Batch = 200\n",
      "Cumulative train loss = 0.006315285339951515, Batch = 300\n",
      "Cumulative train loss = 0.008394117467105389, Batch = 400\n",
      "Cumulative train loss = 0.010485044680535793, Batch = 500\n",
      "Cumulative train loss = 0.012590189464390278, Batch = 600\n",
      "Cumulative train loss = 0.01472482644021511, Batch = 700\n",
      "Cumulative validation loss = 0.00022407346114050597, Batch = 0\n",
      "Epoch 18 train/val loss: 0.0148/0.0183 \n",
      " train/val accuracy: 0.6683/0.5929\n",
      "\n",
      "\n",
      "Cumulative train loss = 2.0582690922310576e-05, Batch = 0\n",
      "Cumulative train loss = 0.0020909758750349283, Batch = 100\n",
      "Cumulative train loss = 0.004141923971474171, Batch = 200\n",
      "Cumulative train loss = 0.0061927358619868755, Batch = 300\n",
      "Cumulative train loss = 0.008249929174780846, Batch = 400\n",
      "Cumulative train loss = 0.010261638090014458, Batch = 500\n",
      "Cumulative train loss = 0.012380123138427734, Batch = 600\n",
      "Cumulative train loss = 0.014426193200051785, Batch = 700\n",
      "Cumulative validation loss = 0.00020278645388316363, Batch = 0\n",
      "Epoch 19 train/val loss: 0.0145/0.0178 \n",
      " train/val accuracy: 0.6765/0.6037\n",
      "\n",
      "\n",
      "Cumulative train loss = 2.0784202206414193e-05, Batch = 0\n",
      "Cumulative train loss = 0.002013305202126503, Batch = 100\n",
      "Cumulative train loss = 0.003996945917606354, Batch = 200\n",
      "Cumulative train loss = 0.006023061461746693, Batch = 300\n",
      "Cumulative train loss = 0.008062039501965046, Batch = 400\n",
      "Cumulative train loss = 0.010137218981981277, Batch = 500\n",
      "Cumulative train loss = 0.012180875986814499, Batch = 600\n",
      "Cumulative train loss = 0.014256580732762814, Batch = 700\n",
      "Cumulative validation loss = 0.00021609838586300611, Batch = 0\n",
      "Epoch 20 train/val loss: 0.0143/0.0175 \n",
      " train/val accuracy: 0.6789/0.6065\n",
      "\n",
      "\n"
     ]
    }
   ],
   "source": [
    "train_model(mo1,train_dl,val_dl,opt1,loss_fn,epochs=20)"
   ]
  },
  {
   "cell_type": "markdown",
   "id": "8d563c82-515a-4fe6-95c6-558917367ee3",
   "metadata": {},
   "source": [
    "## LOAD PRETRAINED RESNET50 NN AND TUNE TO CIFAR10 CLASSIFICATION TASK"
   ]
  },
  {
   "cell_type": "code",
   "execution_count": null,
   "id": "e9a0a216-0bdc-442f-a780-d7a4d26b5445",
   "metadata": {},
   "outputs": [],
   "source": [
    "ref_mo = resnet50(weights=ResNet50_Weights.IMAGENET1K_V1)\n"
   ]
  },
  {
   "cell_type": "code",
   "execution_count": null,
   "id": "c2b65db7-a6dd-4d17-b7a4-2fb54ef57a81",
   "metadata": {},
   "outputs": [],
   "source": [
    "for p in ref_mo.parameters():\n",
    "    p.requires_grad = False"
   ]
  },
  {
   "cell_type": "code",
   "execution_count": null,
   "id": "52d9fc22-1da2-4cd6-9881-9157f6d6d398",
   "metadata": {},
   "outputs": [],
   "source": [
    "ref_mo.fc = torch.nn.Sequential(\n",
    "    torch.nn.Dropout(p=0.2),\n",
    "    torch.nn.Linear(in_features=2048,out_features=512,bias=True),\n",
    "    torch.nn.BatchNorm1d(512),\n",
    "    torch.nn.ReLU(),\n",
    "    torch.nn.Linear(in_features=512,out_features=32,bias=True),\n",
    "    torch.nn.BatchNorm1d(32),\n",
    "    torch.nn.ReLU(),\n",
    "    torch.nn.Linear(in_features=32,out_features=10,bias=True)\n",
    ")"
   ]
  },
  {
   "cell_type": "code",
   "execution_count": null,
   "id": "f419181a-73d2-4df4-b8a3-b2fc2d438760",
   "metadata": {},
   "outputs": [],
   "source": [
    "ref_mo = ref_mo.to(device)"
   ]
  },
  {
   "cell_type": "code",
   "execution_count": null,
   "id": "044dcecd-e809-41f0-87d3-6b0f9e323e94",
   "metadata": {},
   "outputs": [],
   "source": [
    "ref_opt = torch.optim.SGD(ref_mo.parameters(),lr=0.01)"
   ]
  },
  {
   "cell_type": "code",
   "execution_count": null,
   "id": "e64a40c5-e156-43bc-9d78-b5cc28b6f575",
   "metadata": {},
   "outputs": [],
   "source": [
    "ref_loss = torch.nn.CrossEntropyLoss()"
   ]
  },
  {
   "cell_type": "markdown",
   "id": "0a887712-9319-45d3-bf4e-561143aa198f",
   "metadata": {},
   "source": [
    "## TRAIN RESNET50 OUTPUT LAYERS"
   ]
  },
  {
   "cell_type": "code",
   "execution_count": null,
   "id": "1800b400-6d95-45fd-be2b-420f1cd06de5",
   "metadata": {},
   "outputs": [],
   "source": [
    "train_model(ref_mo,train_dl,val_dl,ref_opt,ref_loss,epochs=10)"
   ]
  },
  {
   "cell_type": "markdown",
   "id": "0c30d542-c9a7-4170-a953-ec21876512c9",
   "metadata": {},
   "source": [
    "## DEFINE EVALUATION LOOP"
   ]
  },
  {
   "cell_type": "code",
   "execution_count": 36,
   "id": "e00e23b9-5cd1-4d84-809e-034fb1f43de1",
   "metadata": {},
   "outputs": [],
   "source": [
    "def eval_model(model,test_data,loss_fn):\n",
    "    model.eval()\n",
    "    cum_test_loss = 0\n",
    "    test_acc = 0\n",
    "    n_samples = len(test_data.dataset)\n",
    "    with torch.no_grad():\n",
    "        for i,(example,label) in enumerate(test_data):\n",
    "            example = example.to(device)\n",
    "            label = label.to(device)\n",
    "            pred = model(example)\n",
    "            loss = loss_fn(pred,label)\n",
    "            cum_test_loss += loss\n",
    "            vals,lbl_classes = label.max(dim=1)\n",
    "            vals,pred_classes = pred.max(dim=1)\n",
    "            test_acc += sum(pred_classes==lbl_classes)\n",
    "        cum_test_loss = cum_test_loss/n_samples\n",
    "        test_acc = test_acc/n_samples\n",
    "        info_str = f'Test loss: {cum_test_loss:.4f} \\n test accuracy: {test_acc:.4f}'\n",
    "        print(info_str)\n",
    "        \n",
    "            \n",
    "        "
   ]
  },
  {
   "cell_type": "markdown",
   "id": "edae4bb7-7ee4-4d45-b9a2-469bf5af52e4",
   "metadata": {},
   "source": [
    "## EVALUATE MODEL PERFORMANCE ON TEST SET"
   ]
  },
  {
   "cell_type": "code",
   "execution_count": 38,
   "id": "df9b1370-7bf2-41a8-a92b-7c8043c86ce1",
   "metadata": {},
   "outputs": [
    {
     "name": "stdout",
     "output_type": "stream",
     "text": [
      "Test loss: 0.0177 \n",
      " test accuracy: 0.6141\n"
     ]
    }
   ],
   "source": [
    "eval_model(mo1,test_dl,loss_fn)"
   ]
  },
  {
   "cell_type": "markdown",
   "id": "aeb7f9b4-e724-4490-bba7-a8289be91596",
   "metadata": {},
   "source": [
    "## LOAD BEST MODEL AND SAVE WITH PICKLE"
   ]
  },
  {
   "cell_type": "code",
   "execution_count": 39,
   "id": "adeaf3e0-15b9-4ebd-8b75-13892ef6dd48",
   "metadata": {},
   "outputs": [],
   "source": [
    "mo = SmallCNN()"
   ]
  },
  {
   "cell_type": "code",
   "execution_count": 43,
   "id": "91562e33-1f5f-4642-be38-5442065b410c",
   "metadata": {},
   "outputs": [
    {
     "name": "stderr",
     "output_type": "stream",
     "text": [
      "<>:1: SyntaxWarning: invalid escape sequence '\\m'\n",
      "<>:1: SyntaxWarning: invalid escape sequence '\\m'\n",
      "C:\\Users\\negra\\AppData\\Local\\Temp\\ipykernel_23604\\3545717054.py:1: SyntaxWarning: invalid escape sequence '\\m'\n",
      "  checkpoint = torch.load(\"..\\models\\cifar_model_v1_it19.pt\",weights_only=True)\n"
     ]
    },
    {
     "data": {
      "text/plain": [
       "<All keys matched successfully>"
      ]
     },
     "execution_count": 43,
     "metadata": {},
     "output_type": "execute_result"
    }
   ],
   "source": [
    "checkpoint = torch.load(\"..\\models\\cifar_model_v1_it19.pt\",weights_only=True)\n",
    "mo.load_state_dict(checkpoint['model_state_dict'])"
   ]
  },
  {
   "cell_type": "code",
   "execution_count": 45,
   "id": "f271e878-fca4-49d0-98c0-fa21dee35c14",
   "metadata": {},
   "outputs": [],
   "source": [
    "output_file = 'cifar_model_v1.bin'"
   ]
  },
  {
   "cell_type": "code",
   "execution_count": 46,
   "id": "9ff59730-3cf5-47eb-bf8b-77c2ef84eb3a",
   "metadata": {},
   "outputs": [],
   "source": [
    "with open(output_file,'wb') as f_out:\n",
    "    pickle.dump((tf,mo),f_out)"
   ]
  },
  {
   "cell_type": "markdown",
   "id": "f84b8771-e046-4b4e-94aa-b6797789b47a",
   "metadata": {},
   "source": [
    "## EVALUATE MODIFIED RESNET50 PERFORMANCE ON TEST SET"
   ]
  },
  {
   "cell_type": "code",
   "execution_count": null,
   "id": "b91e2260-e2d9-42c7-b662-eb0a0508c2f5",
   "metadata": {},
   "outputs": [],
   "source": [
    "eval_model(ref_mo,test_dl,ref_loss)"
   ]
  }
 ],
 "metadata": {
  "kernelspec": {
   "display_name": "Python 3 (ipykernel)",
   "language": "python",
   "name": "python3"
  },
  "language_info": {
   "codemirror_mode": {
    "name": "ipython",
    "version": 3
   },
   "file_extension": ".py",
   "mimetype": "text/x-python",
   "name": "python",
   "nbconvert_exporter": "python",
   "pygments_lexer": "ipython3",
   "version": "3.12.0"
  }
 },
 "nbformat": 4,
 "nbformat_minor": 5
}
