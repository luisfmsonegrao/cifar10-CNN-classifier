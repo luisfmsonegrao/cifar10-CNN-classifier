{
 "cells": [
  {
   "cell_type": "code",
   "execution_count": 3,
   "id": "855612df-6bf7-411d-887c-c94db44a6c37",
   "metadata": {},
   "outputs": [],
   "source": [
    "import torch\n",
    "import os, sys\n",
    "import pickle"
   ]
  },
  {
   "cell_type": "code",
   "execution_count": 4,
   "id": "337957df-0c61-49b9-a83c-a2270e3c546c",
   "metadata": {},
   "outputs": [],
   "source": [
    "root_dir = os.path.dirname(os.getcwd())\n",
    "sys.path.append(root_dir)"
   ]
  },
  {
   "cell_type": "code",
   "execution_count": 5,
   "id": "1074abdb-c50c-4ddb-abe2-0b7a335f567a",
   "metadata": {},
   "outputs": [],
   "source": [
    "from models.SmallCNN import SmallCNN"
   ]
  },
  {
   "cell_type": "code",
   "execution_count": 6,
   "id": "d050824b-85ee-4222-9913-b5088ffe6e16",
   "metadata": {},
   "outputs": [],
   "source": [
    "file_path = root_dir + '\\\\trained_models\\\\cifar_model_cpu_v1.bin'"
   ]
  },
  {
   "cell_type": "code",
   "execution_count": 7,
   "id": "e6284ea3-e5bf-420a-9929-23483aded03c",
   "metadata": {},
   "outputs": [],
   "source": [
    "with open(file_path,'rb') as f_in:\n",
    "    tf,mo = pickle.load(f_in)"
   ]
  },
  {
   "cell_type": "code",
   "execution_count": 8,
   "id": "6f85ec54-562c-4ce0-9a56-d23ae246b276",
   "metadata": {},
   "outputs": [
    {
     "data": {
      "text/plain": [
       "SmallCNN(\n",
       "  (relu): ReLU()\n",
       "  (dropout): Dropout(p=0.2, inplace=False)\n",
       "  (c1): Conv2d(3, 8, kernel_size=(3, 3), stride=(1, 1), padding=(1, 1), bias=False)\n",
       "  (bn1): BatchNorm2d(8, eps=1e-05, momentum=0.1, affine=True, track_running_stats=True)\n",
       "  (pool1): MaxPool2d(kernel_size=2, stride=2, padding=0, dilation=1, ceil_mode=False)\n",
       "  (c2): Conv2d(8, 16, kernel_size=(3, 3), stride=(1, 1), padding=(1, 1), bias=False)\n",
       "  (bn2): BatchNorm2d(16, eps=1e-05, momentum=0.1, affine=True, track_running_stats=True)\n",
       "  (pool2): MaxPool2d(kernel_size=2, stride=2, padding=0, dilation=1, ceil_mode=False)\n",
       "  (c3): Conv2d(16, 32, kernel_size=(3, 3), stride=(1, 1), padding=(1, 1), bias=False)\n",
       "  (bn3): BatchNorm2d(32, eps=1e-05, momentum=0.1, affine=True, track_running_stats=True)\n",
       "  (pool3): MaxPool2d(kernel_size=2, stride=2, padding=0, dilation=1, ceil_mode=False)\n",
       "  (lin1): Linear(in_features=512, out_features=64, bias=True)\n",
       "  (bn4): BatchNorm1d(64, eps=1e-05, momentum=0.1, affine=True, track_running_stats=True)\n",
       "  (lin2): Linear(in_features=64, out_features=32, bias=True)\n",
       "  (bn5): BatchNorm1d(32, eps=1e-05, momentum=0.1, affine=True, track_running_stats=True)\n",
       "  (lin3): Linear(in_features=32, out_features=10, bias=True)\n",
       ")"
      ]
     },
     "execution_count": 8,
     "metadata": {},
     "output_type": "execute_result"
    }
   ],
   "source": [
    "mo.eval()"
   ]
  },
  {
   "cell_type": "code",
   "execution_count": 9,
   "id": "8b61004f-8127-4994-b4c3-7b40443a742b",
   "metadata": {},
   "outputs": [],
   "source": [
    "torch.save(mo.state_dict(),'..\\\\trained_models\\\\cifar_model_cpu_v1.pth')"
   ]
  },
  {
   "cell_type": "code",
   "execution_count": 10,
   "id": "e281586a-b3ee-4062-ba60-18ff314fdc40",
   "metadata": {},
   "outputs": [],
   "source": [
    "mo_new = SmallCNN()"
   ]
  },
  {
   "cell_type": "code",
   "execution_count": 11,
   "id": "82ba026a-e3e9-4d78-bdee-bbe69bb79651",
   "metadata": {},
   "outputs": [
    {
     "data": {
      "text/plain": [
       "<All keys matched successfully>"
      ]
     },
     "execution_count": 11,
     "metadata": {},
     "output_type": "execute_result"
    }
   ],
   "source": [
    "mo_new.load_state_dict(torch.load('..\\\\trained_models\\\\cifar_model_cpu_v1.pth',weights_only=True))"
   ]
  },
  {
   "cell_type": "code",
   "execution_count": null,
   "id": "632974d6-dc61-4731-8935-d758f1e89e8f",
   "metadata": {},
   "outputs": [],
   "source": []
  }
 ],
 "metadata": {
  "kernelspec": {
   "display_name": "Python 3 (ipykernel)",
   "language": "python",
   "name": "python3"
  },
  "language_info": {
   "codemirror_mode": {
    "name": "ipython",
    "version": 3
   },
   "file_extension": ".py",
   "mimetype": "text/x-python",
   "name": "python",
   "nbconvert_exporter": "python",
   "pygments_lexer": "ipython3",
   "version": "3.12.0"
  }
 },
 "nbformat": 4,
 "nbformat_minor": 5
}
